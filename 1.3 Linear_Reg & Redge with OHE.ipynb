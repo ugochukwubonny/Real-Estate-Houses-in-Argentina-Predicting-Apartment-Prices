{
 "cells": [
  {
   "cell_type": "markdown",
   "id": "5c55ee66",
   "metadata": {},
   "source": [
    "I created a model that used location — represented by latitude and longitude — to predict price. In this project, i am going to use a different representation for location: neighborhood."
   ]
  },
  {
   "cell_type": "code",
   "execution_count": 4,
   "id": "37d7b3ea",
   "metadata": {
    "scrolled": true
   },
   "outputs": [],
   "source": [
    "import warnings\n",
    "import pandas as pd\n",
    "import numpy as np\n",
    "\n",
    "from glob  import glob\n",
    "from sklearn.linear_model import LinearRegression, Ridge\n",
    "from sklearn.metrics import mean_absolute_error\n",
    "from category_encoders import OneHotEncoder\n",
    "from sklearn.pipeline import  Pipeline, make_pipeline\n",
    "\n",
    "warnings.filterwarnings(\"ignore\")"
   ]
  },
  {
   "cell_type": "code",
   "execution_count": 5,
   "id": "3fd060d2",
   "metadata": {},
   "outputs": [],
   "source": [
    "def wrangle(filepath):\n",
    "    df = pd.read_csv(filepath)\n",
    "    \n",
    "    mask_place = df[\"place_with_parent_names\"].str.contains(\"Capital Federal\")\n",
    "    \n",
    "    mask_apt = df[\"property_type\"] == \"apartment\"\n",
    "    \n",
    "    mask_price = df[\"price_aprox_usd\"] < 400_000\n",
    "    \n",
    "    low, high = df[\"surface_covered_in_m2\"].quantile([0.1, 0.9])\n",
    "    mask_area = df[\"surface_covered_in_m2\"].between(low, high)\n",
    "    \n",
    "    df = df[mask_place & mask_apt & mask_price & mask_area]\n",
    "    \n",
    "    df.drop(columns=[\"lat-lon\"], inplace=True)\n",
    "    \n",
    "    df[\"neighborhood\"] = df[\"place_with_parent_names\"].str.split(\"|\", expand=True)[3]\n",
    "    \n",
    "    df.drop(columns=[\"place_with_parent_names\"],inplace=True)\n",
    "    \n",
    "    return df"
   ]
  },
  {
   "cell_type": "markdown",
   "id": "7b130fb8",
   "metadata": {},
   "source": [
    "In the last project, i used the wrangle function to import two CSV files as DataFrames. But what if we had hundreds of CSV files to import? Wrangling them one-by-one wouldn't be an option. So let's start with a technique for reading several CSV files into a single DataFrame.\n",
    "\n",
    "The first step is to gather the names of all the files we want to import. We can do this using pattern matching."
   ]
  },
  {
   "cell_type": "code",
   "execution_count": 8,
   "id": "4625fd30",
   "metadata": {},
   "outputs": [
    {
     "data": {
      "text/plain": [
       "['properati-AR-2016-11-01-properties-1.csv',\n",
       " 'properati-AR-2016-11-01-properties-2.csv']"
      ]
     },
     "execution_count": 8,
     "metadata": {},
     "output_type": "execute_result"
    }
   ],
   "source": [
    "files = glob(\"properati-AR-2016-11-01-properties-*.csv\")\n",
    "files"
   ]
  },
  {
   "cell_type": "code",
   "execution_count": 9,
   "id": "5c2c11cb",
   "metadata": {},
   "outputs": [],
   "source": [
    "frames = []\n",
    "for file in files:\n",
    "    df = wrangle(file)\n",
    "    frames.append(df)"
   ]
  },
  {
   "cell_type": "code",
   "execution_count": 10,
   "id": "8808f62c",
   "metadata": {},
   "outputs": [
    {
     "name": "stdout",
     "output_type": "stream",
     "text": [
      "<class 'pandas.core.frame.DataFrame'>\n",
      "RangeIndex: 16145 entries, 0 to 16144\n",
      "Data columns (total 23 columns):\n",
      " #   Column                      Non-Null Count  Dtype  \n",
      "---  ------                      --------------  -----  \n",
      " 0   created_on                  16145 non-null  object \n",
      " 1   operation                   16145 non-null  object \n",
      " 2   property_type               16145 non-null  object \n",
      " 3   place_name                  16145 non-null  object \n",
      " 4   geonames_id                 15554 non-null  float64\n",
      " 5   lat                         15490 non-null  float64\n",
      " 6   lon                         15490 non-null  float64\n",
      " 7   price                       16145 non-null  float64\n",
      " 8   currency                    16145 non-null  object \n",
      " 9   price_aprox_local_currency  16145 non-null  float64\n",
      " 10  price_aprox_usd             16145 non-null  float64\n",
      " 11  surface_total_in_m2         11626 non-null  float64\n",
      " 12  surface_covered_in_m2       16145 non-null  float64\n",
      " 13  price_usd_per_m2            11135 non-null  float64\n",
      " 14  price_per_m2                16145 non-null  float64\n",
      " 15  floor                       4709 non-null   float64\n",
      " 16  rooms                       12971 non-null  float64\n",
      " 17  expenses                    4552 non-null   object \n",
      " 18  properati_url               16145 non-null  object \n",
      " 19  description                 16145 non-null  object \n",
      " 20  title                       16145 non-null  object \n",
      " 21  image_thumbnail             16102 non-null  object \n",
      " 22  neighborhood                16145 non-null  object \n",
      "dtypes: float64(12), object(11)\n",
      "memory usage: 2.8+ MB\n",
      "None\n"
     ]
    },
    {
     "data": {
      "text/html": [
       "<div>\n",
       "<style scoped>\n",
       "    .dataframe tbody tr th:only-of-type {\n",
       "        vertical-align: middle;\n",
       "    }\n",
       "\n",
       "    .dataframe tbody tr th {\n",
       "        vertical-align: top;\n",
       "    }\n",
       "\n",
       "    .dataframe thead th {\n",
       "        text-align: right;\n",
       "    }\n",
       "</style>\n",
       "<table border=\"1\" class=\"dataframe\">\n",
       "  <thead>\n",
       "    <tr style=\"text-align: right;\">\n",
       "      <th></th>\n",
       "      <th>created_on</th>\n",
       "      <th>operation</th>\n",
       "      <th>property_type</th>\n",
       "      <th>place_name</th>\n",
       "      <th>geonames_id</th>\n",
       "      <th>lat</th>\n",
       "      <th>lon</th>\n",
       "      <th>price</th>\n",
       "      <th>currency</th>\n",
       "      <th>price_aprox_local_currency</th>\n",
       "      <th>...</th>\n",
       "      <th>price_usd_per_m2</th>\n",
       "      <th>price_per_m2</th>\n",
       "      <th>floor</th>\n",
       "      <th>rooms</th>\n",
       "      <th>expenses</th>\n",
       "      <th>properati_url</th>\n",
       "      <th>description</th>\n",
       "      <th>title</th>\n",
       "      <th>image_thumbnail</th>\n",
       "      <th>neighborhood</th>\n",
       "    </tr>\n",
       "  </thead>\n",
       "  <tbody>\n",
       "    <tr>\n",
       "      <th>0</th>\n",
       "      <td>2014-03-25</td>\n",
       "      <td>rent</td>\n",
       "      <td>apartment</td>\n",
       "      <td>Puerto Madero</td>\n",
       "      <td>3429760.0</td>\n",
       "      <td>-34.603185</td>\n",
       "      <td>-58.363520</td>\n",
       "      <td>14000.0</td>\n",
       "      <td>ARS</td>\n",
       "      <td>13961.08</td>\n",
       "      <td>...</td>\n",
       "      <td>13.153857</td>\n",
       "      <td>200.000000</td>\n",
       "      <td>NaN</td>\n",
       "      <td>NaN</td>\n",
       "      <td>NaN</td>\n",
       "      <td>http://puerto-madero.properati.com.ar/e3uq_alq...</td>\n",
       "      <td>CODIGO:  ubicado en: Juana Manso 500 -  Public...</td>\n",
       "      <td>Alquiler 2 ambientes - Juana Manso 500</td>\n",
       "      <td>https://thumbs-cf.properati.com/2/YKyTOjY-8MQA...</td>\n",
       "      <td>Puerto Madero</td>\n",
       "    </tr>\n",
       "    <tr>\n",
       "      <th>1</th>\n",
       "      <td>2014-03-25</td>\n",
       "      <td>rent</td>\n",
       "      <td>apartment</td>\n",
       "      <td>Puerto Madero</td>\n",
       "      <td>3429760.0</td>\n",
       "      <td>-34.612117</td>\n",
       "      <td>-58.362471</td>\n",
       "      <td>7000.0</td>\n",
       "      <td>USD</td>\n",
       "      <td>106136.80</td>\n",
       "      <td>...</td>\n",
       "      <td>31.818182</td>\n",
       "      <td>31.818182</td>\n",
       "      <td>NaN</td>\n",
       "      <td>NaN</td>\n",
       "      <td>NaN</td>\n",
       "      <td>http://puerto-madero.properati.com.ar/e5ei_alq...</td>\n",
       "      <td>CODIGO: 808-18349 ubicado en: Azucena Villaflo...</td>\n",
       "      <td>TORRE EL FARO</td>\n",
       "      <td>https://thumbs-cf.properati.com/8/RPsd3o247OvN...</td>\n",
       "      <td>Puerto Madero</td>\n",
       "    </tr>\n",
       "    <tr>\n",
       "      <th>2</th>\n",
       "      <td>2014-03-25</td>\n",
       "      <td>rent</td>\n",
       "      <td>apartment</td>\n",
       "      <td>Caballito</td>\n",
       "      <td>3435874.0</td>\n",
       "      <td>-34.622564</td>\n",
       "      <td>-58.434761</td>\n",
       "      <td>3700.0</td>\n",
       "      <td>ARS</td>\n",
       "      <td>3689.61</td>\n",
       "      <td>...</td>\n",
       "      <td>4.055667</td>\n",
       "      <td>64.912281</td>\n",
       "      <td>NaN</td>\n",
       "      <td>NaN</td>\n",
       "      <td>NaN</td>\n",
       "      <td>http://caballito.properati.com.ar/e5fa_alquile...</td>\n",
       "      <td>CODIGO: 612-001 ubicado en: José María Moreno ...</td>\n",
       "      <td>Alquiler 3 ambientes Caballito</td>\n",
       "      <td>https://thumbs-cf.properati.com/9/avEDq3bj9Tg8...</td>\n",
       "      <td>Caballito</td>\n",
       "    </tr>\n",
       "    <tr>\n",
       "      <th>3</th>\n",
       "      <td>2014-03-25</td>\n",
       "      <td>rent</td>\n",
       "      <td>apartment</td>\n",
       "      <td>Balvanera</td>\n",
       "      <td>6693228.0</td>\n",
       "      <td>-34.608636</td>\n",
       "      <td>-58.403405</td>\n",
       "      <td>2100.0</td>\n",
       "      <td>ARS</td>\n",
       "      <td>2094.07</td>\n",
       "      <td>...</td>\n",
       "      <td>3.069111</td>\n",
       "      <td>46.666667</td>\n",
       "      <td>NaN</td>\n",
       "      <td>NaN</td>\n",
       "      <td>NaN</td>\n",
       "      <td>http://balvanera.properati.com.ar/e6r0_alquile...</td>\n",
       "      <td>CODIGO:  ubicado en: Bme. Mitre y Paso -  Publ...</td>\n",
       "      <td>Departamento en Alquiler en Balvanera, Capital...</td>\n",
       "      <td>https://thumbs-cf.properati.com/6/W9gKNn8UJ4rS...</td>\n",
       "      <td>Balvanera</td>\n",
       "    </tr>\n",
       "    <tr>\n",
       "      <th>4</th>\n",
       "      <td>2014-03-25</td>\n",
       "      <td>rent</td>\n",
       "      <td>apartment</td>\n",
       "      <td>Palermo</td>\n",
       "      <td>3430234.0</td>\n",
       "      <td>-34.580804</td>\n",
       "      <td>-58.412091</td>\n",
       "      <td>19000.0</td>\n",
       "      <td>ARS</td>\n",
       "      <td>18947.23</td>\n",
       "      <td>...</td>\n",
       "      <td>9.612462</td>\n",
       "      <td>146.153846</td>\n",
       "      <td>NaN</td>\n",
       "      <td>NaN</td>\n",
       "      <td>NaN</td>\n",
       "      <td>http://palermo.properati.com.ar/e77o_alquiler_...</td>\n",
       "      <td>CODIGO: 127-A 34 ubicado en: Palacio Los Patos...</td>\n",
       "      <td>Departamento en Alquiler en Palermo, Capital F...</td>\n",
       "      <td>https://thumbs-cf.properati.com/5/YqrVJA3MF3vi...</td>\n",
       "      <td>Palermo</td>\n",
       "    </tr>\n",
       "  </tbody>\n",
       "</table>\n",
       "<p>5 rows × 23 columns</p>\n",
       "</div>"
      ],
      "text/plain": [
       "   created_on operation property_type     place_name  geonames_id        lat  \\\n",
       "0  2014-03-25      rent     apartment  Puerto Madero    3429760.0 -34.603185   \n",
       "1  2014-03-25      rent     apartment  Puerto Madero    3429760.0 -34.612117   \n",
       "2  2014-03-25      rent     apartment      Caballito    3435874.0 -34.622564   \n",
       "3  2014-03-25      rent     apartment      Balvanera    6693228.0 -34.608636   \n",
       "4  2014-03-25      rent     apartment        Palermo    3430234.0 -34.580804   \n",
       "\n",
       "         lon    price currency  price_aprox_local_currency  ...  \\\n",
       "0 -58.363520  14000.0      ARS                    13961.08  ...   \n",
       "1 -58.362471   7000.0      USD                   106136.80  ...   \n",
       "2 -58.434761   3700.0      ARS                     3689.61  ...   \n",
       "3 -58.403405   2100.0      ARS                     2094.07  ...   \n",
       "4 -58.412091  19000.0      ARS                    18947.23  ...   \n",
       "\n",
       "   price_usd_per_m2  price_per_m2  floor  rooms  expenses  \\\n",
       "0         13.153857    200.000000    NaN    NaN       NaN   \n",
       "1         31.818182     31.818182    NaN    NaN       NaN   \n",
       "2          4.055667     64.912281    NaN    NaN       NaN   \n",
       "3          3.069111     46.666667    NaN    NaN       NaN   \n",
       "4          9.612462    146.153846    NaN    NaN       NaN   \n",
       "\n",
       "                                       properati_url  \\\n",
       "0  http://puerto-madero.properati.com.ar/e3uq_alq...   \n",
       "1  http://puerto-madero.properati.com.ar/e5ei_alq...   \n",
       "2  http://caballito.properati.com.ar/e5fa_alquile...   \n",
       "3  http://balvanera.properati.com.ar/e6r0_alquile...   \n",
       "4  http://palermo.properati.com.ar/e77o_alquiler_...   \n",
       "\n",
       "                                         description  \\\n",
       "0  CODIGO:  ubicado en: Juana Manso 500 -  Public...   \n",
       "1  CODIGO: 808-18349 ubicado en: Azucena Villaflo...   \n",
       "2  CODIGO: 612-001 ubicado en: José María Moreno ...   \n",
       "3  CODIGO:  ubicado en: Bme. Mitre y Paso -  Publ...   \n",
       "4  CODIGO: 127-A 34 ubicado en: Palacio Los Patos...   \n",
       "\n",
       "                                               title  \\\n",
       "0             Alquiler 2 ambientes - Juana Manso 500   \n",
       "1                                     TORRE EL FARO    \n",
       "2                    Alquiler 3 ambientes Caballito    \n",
       "3  Departamento en Alquiler en Balvanera, Capital...   \n",
       "4  Departamento en Alquiler en Palermo, Capital F...   \n",
       "\n",
       "                                     image_thumbnail   neighborhood  \n",
       "0  https://thumbs-cf.properati.com/2/YKyTOjY-8MQA...  Puerto Madero  \n",
       "1  https://thumbs-cf.properati.com/8/RPsd3o247OvN...  Puerto Madero  \n",
       "2  https://thumbs-cf.properati.com/9/avEDq3bj9Tg8...      Caballito  \n",
       "3  https://thumbs-cf.properati.com/6/W9gKNn8UJ4rS...      Balvanera  \n",
       "4  https://thumbs-cf.properati.com/5/YqrVJA3MF3vi...        Palermo  \n",
       "\n",
       "[5 rows x 23 columns]"
      ]
     },
     "execution_count": 10,
     "metadata": {},
     "output_type": "execute_result"
    }
   ],
   "source": [
    "df = pd.concat(frames, ignore_index=True)\n",
    "print(df.info())\n",
    "df.head()"
   ]
  },
  {
   "cell_type": "code",
   "execution_count": 9,
   "id": "6364359a",
   "metadata": {},
   "outputs": [
    {
     "data": {
      "text/plain": [
       "16145"
      ]
     },
     "execution_count": 9,
     "metadata": {},
     "output_type": "execute_result"
    }
   ],
   "source": [
    "len(df[\"neighborhood\"])"
   ]
  },
  {
   "cell_type": "markdown",
   "id": "52b09256",
   "metadata": {},
   "source": [
    "### Split\n",
    "\n",
    "Creating the feature matrix X_train and target vector y_train. X_train should contain one feature: \"neighborhood\". Your target is \"price_aprox_usd\"."
   ]
  },
  {
   "cell_type": "code",
   "execution_count": 10,
   "id": "b29bdf31",
   "metadata": {},
   "outputs": [],
   "source": [
    "target = \"price_aprox_usd\"\n",
    "features = [\"neighborhood\"]\n",
    "\n",
    "y = df[target]\n",
    "X = df[features]"
   ]
  },
  {
   "cell_type": "code",
   "execution_count": 11,
   "id": "359d8b1c",
   "metadata": {},
   "outputs": [
    {
     "name": "stdout",
     "output_type": "stream",
     "text": [
      "<class 'pandas.core.frame.DataFrame'>\n",
      "RangeIndex: 16145 entries, 0 to 16144\n",
      "Data columns (total 1 columns):\n",
      " #   Column        Non-Null Count  Dtype \n",
      "---  ------        --------------  ----- \n",
      " 0   neighborhood  16145 non-null  object\n",
      "dtypes: object(1)\n",
      "memory usage: 126.3+ KB\n"
     ]
    }
   ],
   "source": [
    "X.info()"
   ]
  },
  {
   "cell_type": "markdown",
   "id": "a0b227b7",
   "metadata": {},
   "source": [
    "### Build Model\n",
    "\n",
    "### Baseline\n",
    "\n",
    "Let's also condense the code we use to establish our baseline."
   ]
  },
  {
   "cell_type": "code",
   "execution_count": 12,
   "id": "b7dcc56e",
   "metadata": {},
   "outputs": [
    {
     "name": "stdout",
     "output_type": "stream",
     "text": [
      "mean neighborhood price: 134984.9\n",
      "baseline mae: 66154.97\n"
     ]
    }
   ],
   "source": [
    "y_mean = y.mean()\n",
    "y_pred_baseline = [y_mean] * len(y)\n",
    "mae_baseline = mean_absolute_error(y, y_pred_baseline)\n",
    "print(\"mean neighborhood price:\", y_mean.round(2))\n",
    "print(\"baseline mae:\", mae_baseline.round(2))"
   ]
  },
  {
   "cell_type": "markdown",
   "id": "f791fb3f",
   "metadata": {},
   "source": [
    "### Iterate\n",
    "\n",
    "First, instantiate a OneHotEncoder named ohe. Make sure to set the use_cat_names argument to True. Next, fit your transformer to the feature matrix X_train. Finally, use your encoder to transform the feature matrix X_train, and assign the transformed data to the variable XT_train."
   ]
  },
  {
   "cell_type": "code",
   "execution_count": 13,
   "id": "073b61a1",
   "metadata": {},
   "outputs": [
    {
     "name": "stdout",
     "output_type": "stream",
     "text": [
      "(16145, 58)\n"
     ]
    },
    {
     "data": {
      "text/html": [
       "<div>\n",
       "<style scoped>\n",
       "    .dataframe tbody tr th:only-of-type {\n",
       "        vertical-align: middle;\n",
       "    }\n",
       "\n",
       "    .dataframe tbody tr th {\n",
       "        vertical-align: top;\n",
       "    }\n",
       "\n",
       "    .dataframe thead th {\n",
       "        text-align: right;\n",
       "    }\n",
       "</style>\n",
       "<table border=\"1\" class=\"dataframe\">\n",
       "  <thead>\n",
       "    <tr style=\"text-align: right;\">\n",
       "      <th></th>\n",
       "      <th>neighborhood_Puerto Madero</th>\n",
       "      <th>neighborhood_Caballito</th>\n",
       "      <th>neighborhood_Balvanera</th>\n",
       "      <th>neighborhood_Palermo</th>\n",
       "      <th>neighborhood_Villa Urquiza</th>\n",
       "      <th>neighborhood_Villa Pueyrredón</th>\n",
       "      <th>neighborhood_Barrio Norte</th>\n",
       "      <th>neighborhood_Paternal</th>\n",
       "      <th>neighborhood_Liniers</th>\n",
       "      <th>neighborhood_San Nicolás</th>\n",
       "      <th>...</th>\n",
       "      <th>neighborhood_Parque Chacabuco</th>\n",
       "      <th>neighborhood_Velez Sarsfield</th>\n",
       "      <th>neighborhood_Agronomía</th>\n",
       "      <th>neighborhood_Mataderos</th>\n",
       "      <th>neighborhood_Pompeya</th>\n",
       "      <th>neighborhood_Monte Castro</th>\n",
       "      <th>neighborhood_Villa Real</th>\n",
       "      <th>neighborhood_Parque Avellaneda</th>\n",
       "      <th>neighborhood_Villa Soldati</th>\n",
       "      <th>neighborhood_Catalinas</th>\n",
       "    </tr>\n",
       "  </thead>\n",
       "  <tbody>\n",
       "    <tr>\n",
       "      <th>0</th>\n",
       "      <td>1</td>\n",
       "      <td>0</td>\n",
       "      <td>0</td>\n",
       "      <td>0</td>\n",
       "      <td>0</td>\n",
       "      <td>0</td>\n",
       "      <td>0</td>\n",
       "      <td>0</td>\n",
       "      <td>0</td>\n",
       "      <td>0</td>\n",
       "      <td>...</td>\n",
       "      <td>0</td>\n",
       "      <td>0</td>\n",
       "      <td>0</td>\n",
       "      <td>0</td>\n",
       "      <td>0</td>\n",
       "      <td>0</td>\n",
       "      <td>0</td>\n",
       "      <td>0</td>\n",
       "      <td>0</td>\n",
       "      <td>0</td>\n",
       "    </tr>\n",
       "    <tr>\n",
       "      <th>1</th>\n",
       "      <td>1</td>\n",
       "      <td>0</td>\n",
       "      <td>0</td>\n",
       "      <td>0</td>\n",
       "      <td>0</td>\n",
       "      <td>0</td>\n",
       "      <td>0</td>\n",
       "      <td>0</td>\n",
       "      <td>0</td>\n",
       "      <td>0</td>\n",
       "      <td>...</td>\n",
       "      <td>0</td>\n",
       "      <td>0</td>\n",
       "      <td>0</td>\n",
       "      <td>0</td>\n",
       "      <td>0</td>\n",
       "      <td>0</td>\n",
       "      <td>0</td>\n",
       "      <td>0</td>\n",
       "      <td>0</td>\n",
       "      <td>0</td>\n",
       "    </tr>\n",
       "    <tr>\n",
       "      <th>2</th>\n",
       "      <td>0</td>\n",
       "      <td>1</td>\n",
       "      <td>0</td>\n",
       "      <td>0</td>\n",
       "      <td>0</td>\n",
       "      <td>0</td>\n",
       "      <td>0</td>\n",
       "      <td>0</td>\n",
       "      <td>0</td>\n",
       "      <td>0</td>\n",
       "      <td>...</td>\n",
       "      <td>0</td>\n",
       "      <td>0</td>\n",
       "      <td>0</td>\n",
       "      <td>0</td>\n",
       "      <td>0</td>\n",
       "      <td>0</td>\n",
       "      <td>0</td>\n",
       "      <td>0</td>\n",
       "      <td>0</td>\n",
       "      <td>0</td>\n",
       "    </tr>\n",
       "    <tr>\n",
       "      <th>3</th>\n",
       "      <td>0</td>\n",
       "      <td>0</td>\n",
       "      <td>1</td>\n",
       "      <td>0</td>\n",
       "      <td>0</td>\n",
       "      <td>0</td>\n",
       "      <td>0</td>\n",
       "      <td>0</td>\n",
       "      <td>0</td>\n",
       "      <td>0</td>\n",
       "      <td>...</td>\n",
       "      <td>0</td>\n",
       "      <td>0</td>\n",
       "      <td>0</td>\n",
       "      <td>0</td>\n",
       "      <td>0</td>\n",
       "      <td>0</td>\n",
       "      <td>0</td>\n",
       "      <td>0</td>\n",
       "      <td>0</td>\n",
       "      <td>0</td>\n",
       "    </tr>\n",
       "    <tr>\n",
       "      <th>4</th>\n",
       "      <td>0</td>\n",
       "      <td>0</td>\n",
       "      <td>0</td>\n",
       "      <td>1</td>\n",
       "      <td>0</td>\n",
       "      <td>0</td>\n",
       "      <td>0</td>\n",
       "      <td>0</td>\n",
       "      <td>0</td>\n",
       "      <td>0</td>\n",
       "      <td>...</td>\n",
       "      <td>0</td>\n",
       "      <td>0</td>\n",
       "      <td>0</td>\n",
       "      <td>0</td>\n",
       "      <td>0</td>\n",
       "      <td>0</td>\n",
       "      <td>0</td>\n",
       "      <td>0</td>\n",
       "      <td>0</td>\n",
       "      <td>0</td>\n",
       "    </tr>\n",
       "  </tbody>\n",
       "</table>\n",
       "<p>5 rows × 58 columns</p>\n",
       "</div>"
      ],
      "text/plain": [
       "   neighborhood_Puerto Madero  neighborhood_Caballito  neighborhood_Balvanera  \\\n",
       "0                           1                       0                       0   \n",
       "1                           1                       0                       0   \n",
       "2                           0                       1                       0   \n",
       "3                           0                       0                       1   \n",
       "4                           0                       0                       0   \n",
       "\n",
       "   neighborhood_Palermo  neighborhood_Villa Urquiza  \\\n",
       "0                     0                           0   \n",
       "1                     0                           0   \n",
       "2                     0                           0   \n",
       "3                     0                           0   \n",
       "4                     1                           0   \n",
       "\n",
       "   neighborhood_Villa Pueyrredón  neighborhood_Barrio Norte  \\\n",
       "0                              0                          0   \n",
       "1                              0                          0   \n",
       "2                              0                          0   \n",
       "3                              0                          0   \n",
       "4                              0                          0   \n",
       "\n",
       "   neighborhood_Paternal  neighborhood_Liniers  neighborhood_San Nicolás  ...  \\\n",
       "0                      0                     0                         0  ...   \n",
       "1                      0                     0                         0  ...   \n",
       "2                      0                     0                         0  ...   \n",
       "3                      0                     0                         0  ...   \n",
       "4                      0                     0                         0  ...   \n",
       "\n",
       "   neighborhood_Parque Chacabuco  neighborhood_Velez Sarsfield  \\\n",
       "0                              0                             0   \n",
       "1                              0                             0   \n",
       "2                              0                             0   \n",
       "3                              0                             0   \n",
       "4                              0                             0   \n",
       "\n",
       "   neighborhood_Agronomía  neighborhood_Mataderos  neighborhood_Pompeya  \\\n",
       "0                       0                       0                     0   \n",
       "1                       0                       0                     0   \n",
       "2                       0                       0                     0   \n",
       "3                       0                       0                     0   \n",
       "4                       0                       0                     0   \n",
       "\n",
       "   neighborhood_Monte Castro  neighborhood_Villa Real  \\\n",
       "0                          0                        0   \n",
       "1                          0                        0   \n",
       "2                          0                        0   \n",
       "3                          0                        0   \n",
       "4                          0                        0   \n",
       "\n",
       "   neighborhood_Parque Avellaneda  neighborhood_Villa Soldati  \\\n",
       "0                               0                           0   \n",
       "1                               0                           0   \n",
       "2                               0                           0   \n",
       "3                               0                           0   \n",
       "4                               0                           0   \n",
       "\n",
       "   neighborhood_Catalinas  \n",
       "0                       0  \n",
       "1                       0  \n",
       "2                       0  \n",
       "3                       0  \n",
       "4                       0  \n",
       "\n",
       "[5 rows x 58 columns]"
      ]
     },
     "execution_count": 13,
     "metadata": {},
     "output_type": "execute_result"
    }
   ],
   "source": [
    "ohe = OneHotEncoder(use_cat_names=True)\n",
    "\n",
    "ohe.fit(X)\n",
    "\n",
    "XT_train = ohe.transform(X)\n",
    "print(XT_train.shape)\n",
    "XT_train.head()"
   ]
  },
  {
   "cell_type": "markdown",
   "id": "1d1fb9cc",
   "metadata": {},
   "source": [
    "Creating a pipeline named model that contains a OneHotEncoder transformer and a LinearRegression predictor. Then fit the model to the training data."
   ]
  },
  {
   "cell_type": "code",
   "execution_count": 14,
   "id": "162992c2",
   "metadata": {},
   "outputs": [
    {
     "data": {
      "text/html": [
       "<style>#sk-container-id-1 {color: black;background-color: white;}#sk-container-id-1 pre{padding: 0;}#sk-container-id-1 div.sk-toggleable {background-color: white;}#sk-container-id-1 label.sk-toggleable__label {cursor: pointer;display: block;width: 100%;margin-bottom: 0;padding: 0.3em;box-sizing: border-box;text-align: center;}#sk-container-id-1 label.sk-toggleable__label-arrow:before {content: \"▸\";float: left;margin-right: 0.25em;color: #696969;}#sk-container-id-1 label.sk-toggleable__label-arrow:hover:before {color: black;}#sk-container-id-1 div.sk-estimator:hover label.sk-toggleable__label-arrow:before {color: black;}#sk-container-id-1 div.sk-toggleable__content {max-height: 0;max-width: 0;overflow: hidden;text-align: left;background-color: #f0f8ff;}#sk-container-id-1 div.sk-toggleable__content pre {margin: 0.2em;color: black;border-radius: 0.25em;background-color: #f0f8ff;}#sk-container-id-1 input.sk-toggleable__control:checked~div.sk-toggleable__content {max-height: 200px;max-width: 100%;overflow: auto;}#sk-container-id-1 input.sk-toggleable__control:checked~label.sk-toggleable__label-arrow:before {content: \"▾\";}#sk-container-id-1 div.sk-estimator input.sk-toggleable__control:checked~label.sk-toggleable__label {background-color: #d4ebff;}#sk-container-id-1 div.sk-label input.sk-toggleable__control:checked~label.sk-toggleable__label {background-color: #d4ebff;}#sk-container-id-1 input.sk-hidden--visually {border: 0;clip: rect(1px 1px 1px 1px);clip: rect(1px, 1px, 1px, 1px);height: 1px;margin: -1px;overflow: hidden;padding: 0;position: absolute;width: 1px;}#sk-container-id-1 div.sk-estimator {font-family: monospace;background-color: #f0f8ff;border: 1px dotted black;border-radius: 0.25em;box-sizing: border-box;margin-bottom: 0.5em;}#sk-container-id-1 div.sk-estimator:hover {background-color: #d4ebff;}#sk-container-id-1 div.sk-parallel-item::after {content: \"\";width: 100%;border-bottom: 1px solid gray;flex-grow: 1;}#sk-container-id-1 div.sk-label:hover label.sk-toggleable__label {background-color: #d4ebff;}#sk-container-id-1 div.sk-serial::before {content: \"\";position: absolute;border-left: 1px solid gray;box-sizing: border-box;top: 0;bottom: 0;left: 50%;z-index: 0;}#sk-container-id-1 div.sk-serial {display: flex;flex-direction: column;align-items: center;background-color: white;padding-right: 0.2em;padding-left: 0.2em;position: relative;}#sk-container-id-1 div.sk-item {position: relative;z-index: 1;}#sk-container-id-1 div.sk-parallel {display: flex;align-items: stretch;justify-content: center;background-color: white;position: relative;}#sk-container-id-1 div.sk-item::before, #sk-container-id-1 div.sk-parallel-item::before {content: \"\";position: absolute;border-left: 1px solid gray;box-sizing: border-box;top: 0;bottom: 0;left: 50%;z-index: -1;}#sk-container-id-1 div.sk-parallel-item {display: flex;flex-direction: column;z-index: 1;position: relative;background-color: white;}#sk-container-id-1 div.sk-parallel-item:first-child::after {align-self: flex-end;width: 50%;}#sk-container-id-1 div.sk-parallel-item:last-child::after {align-self: flex-start;width: 50%;}#sk-container-id-1 div.sk-parallel-item:only-child::after {width: 0;}#sk-container-id-1 div.sk-dashed-wrapped {border: 1px dashed gray;margin: 0 0.4em 0.5em 0.4em;box-sizing: border-box;padding-bottom: 0.4em;background-color: white;}#sk-container-id-1 div.sk-label label {font-family: monospace;font-weight: bold;display: inline-block;line-height: 1.2em;}#sk-container-id-1 div.sk-label-container {text-align: center;}#sk-container-id-1 div.sk-container {/* jupyter's `normalize.less` sets `[hidden] { display: none; }` but bootstrap.min.css set `[hidden] { display: none !important; }` so we also need the `!important` here to be able to override the default hidden behavior on the sphinx rendered scikit-learn.org. See: https://github.com/scikit-learn/scikit-learn/issues/21755 */display: inline-block !important;position: relative;}#sk-container-id-1 div.sk-text-repr-fallback {display: none;}</style><div id=\"sk-container-id-1\" class=\"sk-top-container\"><div class=\"sk-text-repr-fallback\"><pre>Pipeline(steps=[(&#x27;onehotencoder&#x27;,\n",
       "                 OneHotEncoder(cols=[&#x27;neighborhood&#x27;], use_cat_names=True)),\n",
       "                (&#x27;ridge&#x27;, Ridge())])</pre><b>In a Jupyter environment, please rerun this cell to show the HTML representation or trust the notebook. <br />On GitHub, the HTML representation is unable to render, please try loading this page with nbviewer.org.</b></div><div class=\"sk-container\" hidden><div class=\"sk-item sk-dashed-wrapped\"><div class=\"sk-label-container\"><div class=\"sk-label sk-toggleable\"><input class=\"sk-toggleable__control sk-hidden--visually\" id=\"sk-estimator-id-1\" type=\"checkbox\" ><label for=\"sk-estimator-id-1\" class=\"sk-toggleable__label sk-toggleable__label-arrow\">Pipeline</label><div class=\"sk-toggleable__content\"><pre>Pipeline(steps=[(&#x27;onehotencoder&#x27;,\n",
       "                 OneHotEncoder(cols=[&#x27;neighborhood&#x27;], use_cat_names=True)),\n",
       "                (&#x27;ridge&#x27;, Ridge())])</pre></div></div></div><div class=\"sk-serial\"><div class=\"sk-item\"><div class=\"sk-estimator sk-toggleable\"><input class=\"sk-toggleable__control sk-hidden--visually\" id=\"sk-estimator-id-2\" type=\"checkbox\" ><label for=\"sk-estimator-id-2\" class=\"sk-toggleable__label sk-toggleable__label-arrow\">OneHotEncoder</label><div class=\"sk-toggleable__content\"><pre>OneHotEncoder(cols=[&#x27;neighborhood&#x27;], use_cat_names=True)</pre></div></div></div><div class=\"sk-item\"><div class=\"sk-estimator sk-toggleable\"><input class=\"sk-toggleable__control sk-hidden--visually\" id=\"sk-estimator-id-3\" type=\"checkbox\" ><label for=\"sk-estimator-id-3\" class=\"sk-toggleable__label sk-toggleable__label-arrow\">Ridge</label><div class=\"sk-toggleable__content\"><pre>Ridge()</pre></div></div></div></div></div></div></div>"
      ],
      "text/plain": [
       "Pipeline(steps=[('onehotencoder',\n",
       "                 OneHotEncoder(cols=['neighborhood'], use_cat_names=True)),\n",
       "                ('ridge', Ridge())])"
      ]
     },
     "execution_count": 14,
     "metadata": {},
     "output_type": "execute_result"
    }
   ],
   "source": [
    "model = make_pipeline(\n",
    "    OneHotEncoder(use_cat_names=True),\n",
    "    Ridge()\n",
    ").fit(X,y)\n",
    "model"
   ]
  },
  {
   "cell_type": "markdown",
   "id": "436f082d",
   "metadata": {},
   "source": [
    "### Evaluate\n",
    "\n",
    "Regardless of how i build the model, the evaluation step stays the same. Let's see how our model performs with the training set."
   ]
  },
  {
   "cell_type": "code",
   "execution_count": 15,
   "id": "6eb411a4",
   "metadata": {},
   "outputs": [
    {
     "name": "stdout",
     "output_type": "stream",
     "text": [
      "y_pred_train: [ 88522.43723418  88522.43723418 147831.68693893 117937.65538908\n",
      " 148697.8508549 ]\n",
      "mae_training: 62799.16\n"
     ]
    }
   ],
   "source": [
    "y_pred_train = model.predict(X)\n",
    "mae_training = mean_absolute_error(y, y_pred_train)\n",
    "print(\"y_pred_train:\", y_pred_train[:5])\n",
    "print(\"mae_training:\", mae_training.round(2))"
   ]
  },
  {
   "cell_type": "markdown",
   "id": "db65f0af",
   "metadata": {},
   "source": [
    "### Communicate Result\n",
    "\n",
    "Extract the intercept and coefficients for your model."
   ]
  },
  {
   "cell_type": "code",
   "execution_count": 16,
   "id": "94dc63d1",
   "metadata": {},
   "outputs": [
    {
     "name": "stdout",
     "output_type": "stream",
     "text": [
      "intercept: 115282.94\n",
      "coefficient: [-26760.5   32548.75   2654.72  33414.91  18621.18]\n"
     ]
    }
   ],
   "source": [
    "intercept = model.named_steps[\"ridge\"].intercept_\n",
    "coefficient = model.named_steps[\"ridge\"].coef_\n",
    "print(\"intercept:\", intercept.round(2))\n",
    "print(\"coefficient:\", coefficient[:5].round(2))"
   ]
  },
  {
   "cell_type": "markdown",
   "id": "f9d38aba",
   "metadata": {},
   "source": [
    "i have the values of the coefficients, but how do i know which features they belong to? We'll need to get that information by going into the part of our pipeline that did the encoding.\n",
    "\n",
    " Extract the feature names of the encoded data from the OneHotEncoder in the model."
   ]
  },
  {
   "cell_type": "code",
   "execution_count": 17,
   "id": "964818bf",
   "metadata": {},
   "outputs": [
    {
     "name": "stdout",
     "output_type": "stream",
     "text": [
      "['neighborhood_Puerto Madero' 'neighborhood_Caballito'\n",
      " 'neighborhood_Balvanera' 'neighborhood_Palermo'\n",
      " 'neighborhood_Villa Urquiza']\n"
     ]
    },
    {
     "name": "stderr",
     "output_type": "stream",
     "text": [
      "C:\\Users\\Gbest\\AppData\\Roaming\\Python\\Python310\\site-packages\\category_encoders\\utils.py:362: FutureWarning: `get_feature_names` is deprecated in all of sklearn. Use `get_feature_names_out` instead.\n",
      "  warnings.warn(\"`get_feature_names` is deprecated in all of sklearn. Use `get_feature_names_out` instead.\",\n"
     ]
    }
   ],
   "source": [
    "feature_names = model.named_steps[\"onehotencoder\"].get_feature_names()\n",
    "print(feature_names[:5])"
   ]
  },
  {
   "cell_type": "markdown",
   "id": "9d1a9172",
   "metadata": {},
   "source": [
    "Creating a pandas Series named feat_imp where the index is your features and the values are the coefficients."
   ]
  },
  {
   "cell_type": "code",
   "execution_count": 18,
   "id": "6b404d5e",
   "metadata": {},
   "outputs": [],
   "source": [
    "feat_imp = pd.Series(coefficient, feature_names)"
   ]
  },
  {
   "cell_type": "code",
   "execution_count": 19,
   "id": "72429a9f",
   "metadata": {
    "scrolled": false
   },
   "outputs": [
    {
     "data": {
      "image/png": "[encoded data removed]",
      "text/plain": [
       "<Figure size 640x480 with 1 Axes>"
      ]
     },
     "metadata": {},
     "output_type": "display_data"
    }
   ],
   "source": [
    "feat_imp.sort_values(key=abs).tail(20).plot(kind=\"barh\");"
   ]
  }
 ],
 "metadata": {
  "kernelspec": {
   "display_name": "Python 3 (ipykernel)",
   "language": "python",
   "name": "python3"
  },
  "language_info": {
   "codemirror_mode": {
    "name": "ipython",
    "version": 3
   },
   "file_extension": ".py",
   "mimetype": "text/x-python",
   "name": "python",
   "nbconvert_exporter": "python",
   "pygments_lexer": "ipython3",
   "version": "3.9.13"
  }
 },
 "nbformat": 4,
 "nbformat_minor": 5
}
