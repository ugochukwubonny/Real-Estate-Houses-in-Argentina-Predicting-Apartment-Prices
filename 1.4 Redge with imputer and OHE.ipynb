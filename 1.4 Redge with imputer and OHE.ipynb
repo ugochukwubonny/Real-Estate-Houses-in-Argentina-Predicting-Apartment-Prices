{
 "cells": [
  {
   "cell_type": "markdown",
   "id": "5bfa81e4",
   "metadata": {},
   "source": [
    "In the project, I am going to try to use all the features in our dataset to improve our model. This means that i have to do a more careful cleaning of the dataset and consider some of the finer points of linear models."
   ]
  },
  {
   "cell_type": "markdown",
   "id": "7cd48727",
   "metadata": {},
   "source": [
    "## Prepare Data\n",
    "\n",
    "### Import"
   ]
  },
  {
   "cell_type": "code",
   "execution_count": 2,
   "id": "c7b3c32b",
   "metadata": {},
   "outputs": [],
   "source": [
    "import warnings\n",
    "import pandas as pd\n",
    "import seaborn as sns\n",
    "import numpy as np\n",
    "\n",
    "from glob import glob\n",
    "from category_encoders import OneHotEncoder\n",
    "from sklearn.linear_model import LinearRegression, Ridge\n",
    "from sklearn.impute import SimpleImputer\n",
    "from sklearn.metrics import mean_absolute_error\n",
    "from sklearn.pipeline import Pipeline, make_pipeline\n",
    "\n",
    "warnings.filterwarnings(\"ignore\")"
   ]
  },
  {
   "cell_type": "code",
   "execution_count": 3,
   "id": "2b42df27",
   "metadata": {},
   "outputs": [],
   "source": [
    "def wrangle(filepath):\n",
    "    df = pd.read_csv(filepath)\n",
    "    \n",
    "    mask_place = df[\"place_with_parent_names\"].str.contains(\"Capital Federal\")\n",
    "    \n",
    "    mask_apt = df[\"property_type\"] == \"apartment\"\n",
    "    \n",
    "    mask_price = df[\"price_aprox_usd\"] < 400_000\n",
    "    \n",
    "    low, high = df[\"surface_covered_in_m2\"].quantile([0.1, 0.9])\n",
    "    mask_area = df[\"surface_covered_in_m2\"].between(low, high)\n",
    "    \n",
    "    df = df[mask_place & mask_apt & mask_price & mask_area]\n",
    "    \n",
    "    df.drop(columns=[\"lat-lon\"], inplace=True)\n",
    "    \n",
    "    df[\"neighborhood\"] = df[\"place_with_parent_names\"].str.split(\"|\", expand=True)[3]\n",
    "    \n",
    "    df.drop(columns=[\"place_with_parent_names\"],inplace=True)\n",
    "    \n",
    "    df.drop(columns=[\"created_on\", \"place_name\", \"geonames_id\", \"description\", \"title\", \"image_thumbnail\"], inplace=True)\n",
    "    \n",
    "    df.drop(columns=[\"floor\", \"expenses\"], inplace=True)\n",
    "    \n",
    "    df.drop(columns=[\"operation\", \"property_type\", \"currency\", \"properati_url\"], inplace=True)\n",
    "    \n",
    "    df.drop(columns=[\"price_aprox_local_currency\", \"price\", \"price_per_m2\", \"price_usd_per_m2\"], inplace=True)\n",
    "    \n",
    "    df.drop(columns=[\"surface_total_in_m2\", \"rooms\"], inplace=True)\n",
    "    \n",
    "    return df"
   ]
  },
  {
   "cell_type": "markdown",
   "id": "39ce59f3",
   "metadata": {},
   "source": [
    "Use glob to create a list that contains the filenames for all the Buenos Aires real estate CSV files in the data directory. Assign this list to the variable name files."
   ]
  },
  {
   "cell_type": "code",
   "execution_count": 4,
   "id": "ac29818b",
   "metadata": {},
   "outputs": [
    {
     "data": {
      "text/plain": [
       "['properati-AR-2016-11-01-properties-1.csv',\n",
       " 'properati-AR-2016-11-01-properties-2.csv']"
      ]
     },
     "execution_count": 4,
     "metadata": {},
     "output_type": "execute_result"
    }
   ],
   "source": [
    "files = glob('properati-AR-2016-11-01-properties-*.csv')\n",
    "files"
   ]
  },
  {
   "cell_type": "code",
   "execution_count": null,
   "id": "40cf6243",
   "metadata": {},
   "outputs": [],
   "source": [
    "frame = [wrangle(file) for file in files]\n",
    "# frames = []\n",
    "# for file in files:\n",
    "#     df = wrangle(file)\n",
    "#     frames.append(df)\n",
    "frame"
   ]
  },
  {
   "cell_type": "markdown",
   "id": "6e3671dd",
   "metadata": {},
   "source": [
    "Use pd.concat to concatenate it items in frames into a single DataFrame df. Making sure that it set the ignore_index argument to True."
   ]
  },
  {
   "cell_type": "code",
   "execution_count": 24,
   "id": "6e9f06b7",
   "metadata": {},
   "outputs": [
    {
     "name": "stdout",
     "output_type": "stream",
     "text": [
      "<class 'pandas.core.frame.DataFrame'>\n",
      "RangeIndex: 16145 entries, 0 to 16144\n",
      "Data columns (total 5 columns):\n",
      " #   Column                 Non-Null Count  Dtype  \n",
      "---  ------                 --------------  -----  \n",
      " 0   lat                    15490 non-null  float64\n",
      " 1   lon                    15490 non-null  float64\n",
      " 2   price_aprox_usd        16145 non-null  float64\n",
      " 3   surface_covered_in_m2  16145 non-null  float64\n",
      " 4   neighborhood           16145 non-null  object \n",
      "dtypes: float64(4), object(1)\n",
      "memory usage: 630.8+ KB\n",
      "None\n"
     ]
    },
    {
     "data": {
      "text/html": [
       "<div>\n",
       "<style scoped>\n",
       "    .dataframe tbody tr th:only-of-type {\n",
       "        vertical-align: middle;\n",
       "    }\n",
       "\n",
       "    .dataframe tbody tr th {\n",
       "        vertical-align: top;\n",
       "    }\n",
       "\n",
       "    .dataframe thead th {\n",
       "        text-align: right;\n",
       "    }\n",
       "</style>\n",
       "<table border=\"1\" class=\"dataframe\">\n",
       "  <thead>\n",
       "    <tr style=\"text-align: right;\">\n",
       "      <th></th>\n",
       "      <th>lat</th>\n",
       "      <th>lon</th>\n",
       "      <th>price_aprox_usd</th>\n",
       "      <th>surface_covered_in_m2</th>\n",
       "      <th>neighborhood</th>\n",
       "    </tr>\n",
       "  </thead>\n",
       "  <tbody>\n",
       "    <tr>\n",
       "      <th>0</th>\n",
       "      <td>-34.603185</td>\n",
       "      <td>-58.363520</td>\n",
       "      <td>920.77</td>\n",
       "      <td>70.0</td>\n",
       "      <td>Puerto Madero</td>\n",
       "    </tr>\n",
       "    <tr>\n",
       "      <th>1</th>\n",
       "      <td>-34.612117</td>\n",
       "      <td>-58.362471</td>\n",
       "      <td>7000.00</td>\n",
       "      <td>220.0</td>\n",
       "      <td>Puerto Madero</td>\n",
       "    </tr>\n",
       "    <tr>\n",
       "      <th>2</th>\n",
       "      <td>-34.622564</td>\n",
       "      <td>-58.434761</td>\n",
       "      <td>243.34</td>\n",
       "      <td>57.0</td>\n",
       "      <td>Caballito</td>\n",
       "    </tr>\n",
       "    <tr>\n",
       "      <th>3</th>\n",
       "      <td>-34.608636</td>\n",
       "      <td>-58.403405</td>\n",
       "      <td>138.11</td>\n",
       "      <td>45.0</td>\n",
       "      <td>Balvanera</td>\n",
       "    </tr>\n",
       "    <tr>\n",
       "      <th>4</th>\n",
       "      <td>-34.580804</td>\n",
       "      <td>-58.412091</td>\n",
       "      <td>1249.62</td>\n",
       "      <td>130.0</td>\n",
       "      <td>Palermo</td>\n",
       "    </tr>\n",
       "  </tbody>\n",
       "</table>\n",
       "</div>"
      ],
      "text/plain": [
       "         lat        lon  price_aprox_usd  surface_covered_in_m2   neighborhood\n",
       "0 -34.603185 -58.363520           920.77                   70.0  Puerto Madero\n",
       "1 -34.612117 -58.362471          7000.00                  220.0  Puerto Madero\n",
       "2 -34.622564 -58.434761           243.34                   57.0      Caballito\n",
       "3 -34.608636 -58.403405           138.11                   45.0      Balvanera\n",
       "4 -34.580804 -58.412091          1249.62                  130.0        Palermo"
      ]
     },
     "execution_count": 24,
     "metadata": {},
     "output_type": "execute_result"
    }
   ],
   "source": [
    "df = pd.concat(frame, ignore_index=True)\n",
    "print(df.info())\n",
    "df.head()"
   ]
  },
  {
   "cell_type": "code",
   "execution_count": 75,
   "id": "4556e73a",
   "metadata": {},
   "outputs": [],
   "source": [
    "#df.drop(columns=[\"created_on\", \"place_name\", \"geonames_id\", \"description\", \"title\", \"image_thumbnail\"], inplace=True)"
   ]
  },
  {
   "cell_type": "markdown",
   "id": "75087691",
   "metadata": {},
   "source": [
    "### Explore\n",
    "\n",
    "The first thing i need to consider when trying to use all the features df is missing values. While it's true i can impute missing values, there still needs to be enough data in a column to do a good imputation. A general rule is that, if more than half of the data in a column is missing, it's better to drop it then try imputing.\n",
    "\n",
    "Take a look at the output from df.info() above. Are there columns where more than half of the values are NaN? If so, those columns need to go!"
   ]
  },
  {
   "cell_type": "markdown",
   "id": "0990a143",
   "metadata": {},
   "source": [
    "Modify your wrangle function to drop \n",
    "NaN values, \n",
    "\n",
    "leaky, \n",
    "\n",
    "multicolinearity and \n",
    "\n",
    "high- and low-cardinality categorical features.\n",
    "\n",
    "Be sure to rerun all the cells above before you continue."
   ]
  },
  {
   "cell_type": "code",
   "execution_count": 76,
   "id": "3eb52bff",
   "metadata": {},
   "outputs": [
    {
     "data": {
      "text/plain": [
       "lat                      0.04057\n",
       "lon                      0.04057\n",
       "price_aprox_usd          0.00000\n",
       "surface_covered_in_m2    0.00000\n",
       "neighborhood             0.00000\n",
       "dtype: float64"
      ]
     },
     "execution_count": 76,
     "metadata": {},
     "output_type": "execute_result"
    }
   ],
   "source": [
    "df.isnull().sum() / len(df)"
   ]
  },
  {
   "cell_type": "code",
   "execution_count": 77,
   "id": "336e8e44",
   "metadata": {},
   "outputs": [
    {
     "data": {
      "text/html": [
       "<div>\n",
       "<style scoped>\n",
       "    .dataframe tbody tr th:only-of-type {\n",
       "        vertical-align: middle;\n",
       "    }\n",
       "\n",
       "    .dataframe tbody tr th {\n",
       "        vertical-align: top;\n",
       "    }\n",
       "\n",
       "    .dataframe thead th {\n",
       "        text-align: right;\n",
       "    }\n",
       "</style>\n",
       "<table border=\"1\" class=\"dataframe\">\n",
       "  <thead>\n",
       "    <tr style=\"text-align: right;\">\n",
       "      <th></th>\n",
       "      <th>neighborhood</th>\n",
       "    </tr>\n",
       "  </thead>\n",
       "  <tbody>\n",
       "    <tr>\n",
       "      <th>0</th>\n",
       "      <td>Villa Crespo</td>\n",
       "    </tr>\n",
       "    <tr>\n",
       "      <th>1</th>\n",
       "      <td>Villa Devoto</td>\n",
       "    </tr>\n",
       "    <tr>\n",
       "      <th>2</th>\n",
       "      <td>Chacarita</td>\n",
       "    </tr>\n",
       "    <tr>\n",
       "      <th>3</th>\n",
       "      <td>Palermo</td>\n",
       "    </tr>\n",
       "    <tr>\n",
       "      <th>4</th>\n",
       "      <td>Barracas</td>\n",
       "    </tr>\n",
       "  </tbody>\n",
       "</table>\n",
       "</div>"
      ],
      "text/plain": [
       "   neighborhood\n",
       "0  Villa Crespo\n",
       "1  Villa Devoto\n",
       "2     Chacarita\n",
       "3       Palermo\n",
       "4      Barracas"
      ]
     },
     "execution_count": 77,
     "metadata": {},
     "output_type": "execute_result"
    }
   ],
   "source": [
    "df.select_dtypes(object).head()"
   ]
  },
  {
   "cell_type": "code",
   "execution_count": 78,
   "id": "965523c7",
   "metadata": {},
   "outputs": [
    {
     "data": {
      "text/plain": [
       "lat                      9925\n",
       "lon                      9960\n",
       "price_aprox_usd          2491\n",
       "surface_covered_in_m2     234\n",
       "dtype: int64"
      ]
     },
     "execution_count": 78,
     "metadata": {},
     "output_type": "execute_result"
    }
   ],
   "source": [
    "df.select_dtypes(float).nunique()"
   ]
  },
  {
   "cell_type": "code",
   "execution_count": 79,
   "id": "4b3b1f6a",
   "metadata": {},
   "outputs": [
    {
     "data": {
      "text/html": [
       "<div>\n",
       "<style scoped>\n",
       "    .dataframe tbody tr th:only-of-type {\n",
       "        vertical-align: middle;\n",
       "    }\n",
       "\n",
       "    .dataframe tbody tr th {\n",
       "        vertical-align: top;\n",
       "    }\n",
       "\n",
       "    .dataframe thead th {\n",
       "        text-align: right;\n",
       "    }\n",
       "</style>\n",
       "<table border=\"1\" class=\"dataframe\">\n",
       "  <thead>\n",
       "    <tr style=\"text-align: right;\">\n",
       "      <th></th>\n",
       "      <th>lat</th>\n",
       "      <th>lon</th>\n",
       "      <th>surface_covered_in_m2</th>\n",
       "    </tr>\n",
       "  </thead>\n",
       "  <tbody>\n",
       "    <tr>\n",
       "      <th>lat</th>\n",
       "      <td>1.000000</td>\n",
       "      <td>0.940895</td>\n",
       "      <td>-0.004053</td>\n",
       "    </tr>\n",
       "    <tr>\n",
       "      <th>lon</th>\n",
       "      <td>0.940895</td>\n",
       "      <td>1.000000</td>\n",
       "      <td>0.002381</td>\n",
       "    </tr>\n",
       "    <tr>\n",
       "      <th>surface_covered_in_m2</th>\n",
       "      <td>-0.004053</td>\n",
       "      <td>0.002381</td>\n",
       "      <td>1.000000</td>\n",
       "    </tr>\n",
       "  </tbody>\n",
       "</table>\n",
       "</div>"
      ],
      "text/plain": [
       "                            lat       lon  surface_covered_in_m2\n",
       "lat                    1.000000  0.940895              -0.004053\n",
       "lon                    0.940895  1.000000               0.002381\n",
       "surface_covered_in_m2 -0.004053  0.002381               1.000000"
      ]
     },
     "execution_count": 79,
     "metadata": {},
     "output_type": "execute_result"
    }
   ],
   "source": [
    "corr = df.select_dtypes(float).drop(columns=\"price_aprox_usd\").corr()\n",
    "corr"
   ]
  },
  {
   "cell_type": "code",
   "execution_count": 80,
   "id": "186d504a",
   "metadata": {
    "scrolled": true
   },
   "outputs": [
    {
     "data": {
      "text/plain": [
       "<Axes: >"
      ]
     },
     "execution_count": 80,
     "metadata": {},
     "output_type": "execute_result"
    },
    {
     "data": {
      "image/png": "[encoded data removed]",
      "text/plain": [
       "<Figure size 640x480 with 2 Axes>"
      ]
     },
     "metadata": {},
     "output_type": "display_data"
    }
   ],
   "source": [
    "sns.heatmap(corr)"
   ]
  },
  {
   "cell_type": "code",
   "execution_count": 81,
   "id": "4fc61a35",
   "metadata": {
    "scrolled": true
   },
   "outputs": [
    {
     "name": "stdout",
     "output_type": "stream",
     "text": [
      "<class 'pandas.core.frame.DataFrame'>\n",
      "RangeIndex: 16145 entries, 0 to 16144\n",
      "Data columns (total 5 columns):\n",
      " #   Column                 Non-Null Count  Dtype  \n",
      "---  ------                 --------------  -----  \n",
      " 0   lat                    15490 non-null  float64\n",
      " 1   lon                    15490 non-null  float64\n",
      " 2   price_aprox_usd        16145 non-null  float64\n",
      " 3   surface_covered_in_m2  16145 non-null  float64\n",
      " 4   neighborhood           16145 non-null  object \n",
      "dtypes: float64(4), object(1)\n",
      "memory usage: 630.8+ KB\n"
     ]
    }
   ],
   "source": [
    "df.info()"
   ]
  },
  {
   "cell_type": "markdown",
   "id": "9b1c0b22",
   "metadata": {},
   "source": [
    "### Split Data\n",
    "\n",
    "Creating feature matrix X_train and target vector y_train. The target is \"price_aprox_usd\". The features should be all the columns that remain in the DataFrame you cleaned above."
   ]
  },
  {
   "cell_type": "code",
   "execution_count": 87,
   "id": "c3adeac1",
   "metadata": {},
   "outputs": [],
   "source": [
    "target = \"price_aprox_usd\"\n",
    "\n",
    "y=df[target]\n",
    "X = df.drop(columns=target)"
   ]
  },
  {
   "cell_type": "code",
   "execution_count": 85,
   "id": "b321e30f",
   "metadata": {},
   "outputs": [
    {
     "name": "stdout",
     "output_type": "stream",
     "text": [
      "<class 'pandas.core.frame.DataFrame'>\n",
      "RangeIndex: 16145 entries, 0 to 16144\n",
      "Data columns (total 4 columns):\n",
      " #   Column                 Non-Null Count  Dtype  \n",
      "---  ------                 --------------  -----  \n",
      " 0   lat                    15490 non-null  float64\n",
      " 1   lon                    15490 non-null  float64\n",
      " 2   surface_covered_in_m2  16145 non-null  float64\n",
      " 3   neighborhood           16145 non-null  object \n",
      "dtypes: float64(3), object(1)\n",
      "memory usage: 504.7+ KB\n"
     ]
    }
   ],
   "source": [
    "X.info()"
   ]
  },
  {
   "cell_type": "markdown",
   "id": "be7640c2",
   "metadata": {},
   "source": [
    "### Baseline"
   ]
  },
  {
   "cell_type": "code",
   "execution_count": 89,
   "id": "0acd1736",
   "metadata": {},
   "outputs": [
    {
     "name": "stdout",
     "output_type": "stream",
     "text": [
      "mean price: 134984.9\n",
      "baseline MAE: 66154.97\n"
     ]
    }
   ],
   "source": [
    "y_mean=y.mean()\n",
    "y_pred_baseline = [y_mean]*len(y)\n",
    "mae_baseline = mean_absolute_error(y, y_pred_baseline)\n",
    "print(\"mean price:\", y_mean.round(2))\n",
    "print(\"baseline MAE:\", mae_baseline.round(2))"
   ]
  },
  {
   "cell_type": "markdown",
   "id": "6515abb4",
   "metadata": {},
   "source": [
    "### Iterate\n",
    "\n",
    "Creating a pipeline named model that contains a OneHotEncoder, SimpleImputer, and Ridge predictor."
   ]
  },
  {
   "cell_type": "code",
   "execution_count": 97,
   "id": "a18a3fc3",
   "metadata": {},
   "outputs": [],
   "source": [
    "ohe = OneHotEncoder().fit(X)\n",
    "\n",
    "xt = ohe.transform(X)\n",
    "\n",
    "imputer = SimpleImputer().fit(xt)\n",
    "\n",
    "xt_train = imputer.transform(xt)"
   ]
  },
  {
   "cell_type": "code",
   "execution_count": 100,
   "id": "d171268d",
   "metadata": {},
   "outputs": [],
   "source": [
    "model = make_pipeline(\n",
    "    OneHotEncoder(use_cat_names=True),\n",
    "    SimpleImputer(),\n",
    "    Ridge()\n",
    ").fit(X,y)"
   ]
  },
  {
   "cell_type": "code",
   "execution_count": 101,
   "id": "1ad304fe",
   "metadata": {},
   "outputs": [
    {
     "data": {
      "text/html": [
       "<style>#sk-container-id-1 {color: black;background-color: white;}#sk-container-id-1 pre{padding: 0;}#sk-container-id-1 div.sk-toggleable {background-color: white;}#sk-container-id-1 label.sk-toggleable__label {cursor: pointer;display: block;width: 100%;margin-bottom: 0;padding: 0.3em;box-sizing: border-box;text-align: center;}#sk-container-id-1 label.sk-toggleable__label-arrow:before {content: \"▸\";float: left;margin-right: 0.25em;color: #696969;}#sk-container-id-1 label.sk-toggleable__label-arrow:hover:before {color: black;}#sk-container-id-1 div.sk-estimator:hover label.sk-toggleable__label-arrow:before {color: black;}#sk-container-id-1 div.sk-toggleable__content {max-height: 0;max-width: 0;overflow: hidden;text-align: left;background-color: #f0f8ff;}#sk-container-id-1 div.sk-toggleable__content pre {margin: 0.2em;color: black;border-radius: 0.25em;background-color: #f0f8ff;}#sk-container-id-1 input.sk-toggleable__control:checked~div.sk-toggleable__content {max-height: 200px;max-width: 100%;overflow: auto;}#sk-container-id-1 input.sk-toggleable__control:checked~label.sk-toggleable__label-arrow:before {content: \"▾\";}#sk-container-id-1 div.sk-estimator input.sk-toggleable__control:checked~label.sk-toggleable__label {background-color: #d4ebff;}#sk-container-id-1 div.sk-label input.sk-toggleable__control:checked~label.sk-toggleable__label {background-color: #d4ebff;}#sk-container-id-1 input.sk-hidden--visually {border: 0;clip: rect(1px 1px 1px 1px);clip: rect(1px, 1px, 1px, 1px);height: 1px;margin: -1px;overflow: hidden;padding: 0;position: absolute;width: 1px;}#sk-container-id-1 div.sk-estimator {font-family: monospace;background-color: #f0f8ff;border: 1px dotted black;border-radius: 0.25em;box-sizing: border-box;margin-bottom: 0.5em;}#sk-container-id-1 div.sk-estimator:hover {background-color: #d4ebff;}#sk-container-id-1 div.sk-parallel-item::after {content: \"\";width: 100%;border-bottom: 1px solid gray;flex-grow: 1;}#sk-container-id-1 div.sk-label:hover label.sk-toggleable__label {background-color: #d4ebff;}#sk-container-id-1 div.sk-serial::before {content: \"\";position: absolute;border-left: 1px solid gray;box-sizing: border-box;top: 0;bottom: 0;left: 50%;z-index: 0;}#sk-container-id-1 div.sk-serial {display: flex;flex-direction: column;align-items: center;background-color: white;padding-right: 0.2em;padding-left: 0.2em;position: relative;}#sk-container-id-1 div.sk-item {position: relative;z-index: 1;}#sk-container-id-1 div.sk-parallel {display: flex;align-items: stretch;justify-content: center;background-color: white;position: relative;}#sk-container-id-1 div.sk-item::before, #sk-container-id-1 div.sk-parallel-item::before {content: \"\";position: absolute;border-left: 1px solid gray;box-sizing: border-box;top: 0;bottom: 0;left: 50%;z-index: -1;}#sk-container-id-1 div.sk-parallel-item {display: flex;flex-direction: column;z-index: 1;position: relative;background-color: white;}#sk-container-id-1 div.sk-parallel-item:first-child::after {align-self: flex-end;width: 50%;}#sk-container-id-1 div.sk-parallel-item:last-child::after {align-self: flex-start;width: 50%;}#sk-container-id-1 div.sk-parallel-item:only-child::after {width: 0;}#sk-container-id-1 div.sk-dashed-wrapped {border: 1px dashed gray;margin: 0 0.4em 0.5em 0.4em;box-sizing: border-box;padding-bottom: 0.4em;background-color: white;}#sk-container-id-1 div.sk-label label {font-family: monospace;font-weight: bold;display: inline-block;line-height: 1.2em;}#sk-container-id-1 div.sk-label-container {text-align: center;}#sk-container-id-1 div.sk-container {/* jupyter's `normalize.less` sets `[hidden] { display: none; }` but bootstrap.min.css set `[hidden] { display: none !important; }` so we also need the `!important` here to be able to override the default hidden behavior on the sphinx rendered scikit-learn.org. See: https://github.com/scikit-learn/scikit-learn/issues/21755 */display: inline-block !important;position: relative;}#sk-container-id-1 div.sk-text-repr-fallback {display: none;}</style><div id=\"sk-container-id-1\" class=\"sk-top-container\"><div class=\"sk-text-repr-fallback\"><pre>Pipeline(steps=[(&#x27;onehotencoder&#x27;,\n",
       "                 OneHotEncoder(cols=[&#x27;neighborhood&#x27;], use_cat_names=True)),\n",
       "                (&#x27;simpleimputer&#x27;, SimpleImputer()), (&#x27;ridge&#x27;, Ridge())])</pre><b>In a Jupyter environment, please rerun this cell to show the HTML representation or trust the notebook. <br />On GitHub, the HTML representation is unable to render, please try loading this page with nbviewer.org.</b></div><div class=\"sk-container\" hidden><div class=\"sk-item sk-dashed-wrapped\"><div class=\"sk-label-container\"><div class=\"sk-label sk-toggleable\"><input class=\"sk-toggleable__control sk-hidden--visually\" id=\"sk-estimator-id-1\" type=\"checkbox\" ><label for=\"sk-estimator-id-1\" class=\"sk-toggleable__label sk-toggleable__label-arrow\">Pipeline</label><div class=\"sk-toggleable__content\"><pre>Pipeline(steps=[(&#x27;onehotencoder&#x27;,\n",
       "                 OneHotEncoder(cols=[&#x27;neighborhood&#x27;], use_cat_names=True)),\n",
       "                (&#x27;simpleimputer&#x27;, SimpleImputer()), (&#x27;ridge&#x27;, Ridge())])</pre></div></div></div><div class=\"sk-serial\"><div class=\"sk-item\"><div class=\"sk-estimator sk-toggleable\"><input class=\"sk-toggleable__control sk-hidden--visually\" id=\"sk-estimator-id-2\" type=\"checkbox\" ><label for=\"sk-estimator-id-2\" class=\"sk-toggleable__label sk-toggleable__label-arrow\">OneHotEncoder</label><div class=\"sk-toggleable__content\"><pre>OneHotEncoder(cols=[&#x27;neighborhood&#x27;], use_cat_names=True)</pre></div></div></div><div class=\"sk-item\"><div class=\"sk-estimator sk-toggleable\"><input class=\"sk-toggleable__control sk-hidden--visually\" id=\"sk-estimator-id-3\" type=\"checkbox\" ><label for=\"sk-estimator-id-3\" class=\"sk-toggleable__label sk-toggleable__label-arrow\">SimpleImputer</label><div class=\"sk-toggleable__content\"><pre>SimpleImputer()</pre></div></div></div><div class=\"sk-item\"><div class=\"sk-estimator sk-toggleable\"><input class=\"sk-toggleable__control sk-hidden--visually\" id=\"sk-estimator-id-4\" type=\"checkbox\" ><label for=\"sk-estimator-id-4\" class=\"sk-toggleable__label sk-toggleable__label-arrow\">Ridge</label><div class=\"sk-toggleable__content\"><pre>Ridge()</pre></div></div></div></div></div></div></div>"
      ],
      "text/plain": [
       "Pipeline(steps=[('onehotencoder',\n",
       "                 OneHotEncoder(cols=['neighborhood'], use_cat_names=True)),\n",
       "                ('simpleimputer', SimpleImputer()), ('ridge', Ridge())])"
      ]
     },
     "execution_count": 101,
     "metadata": {},
     "output_type": "execute_result"
    }
   ],
   "source": [
    "model"
   ]
  },
  {
   "cell_type": "code",
   "execution_count": 102,
   "id": "17ff1ab4",
   "metadata": {},
   "outputs": [
    {
     "name": "stdout",
     "output_type": "stream",
     "text": [
      "trained mae: 66154.97\n"
     ]
    }
   ],
   "source": [
    "y_pred_train = model.predict(X)\n",
    "mae_basline = mean_absolute_error(y, y_pred_train)\n",
    "print(\"trained mae:\", mae_baseline.round(2))"
   ]
  },
  {
   "cell_type": "markdown",
   "id": "833a1564",
   "metadata": {},
   "source": [
    "### Communicate Results\n",
    "\n",
    "For this project, i relied on equations and visualizations for communication about the model. In many data science projects, however, communication means giving stakeholders tools they can use to deploy a model — in other words, use it in action. So let's look at two ways you might deploy this model.\n",
    "\n",
    "One thing you might be asked to do it wrap your model in a function so that a programmer can provide inputs and then receive a prediction as output."
   ]
  },
  {
   "cell_type": "code",
   "execution_count": 105,
   "id": "b8a6dec3",
   "metadata": {},
   "outputs": [
    {
     "name": "stdout",
     "output_type": "stream",
     "text": [
      "intercept: 15065.22\n",
      "coefficient: [ 1893.61 -1818.4    956.51 16316.06  9685.38]\n"
     ]
    }
   ],
   "source": [
    "intercept = model.named_steps[\"ridge\"].intercept_\n",
    "coefficient = model.named_steps[\"ridge\"].coef_\n",
    "print(\"intercept:\", intercept.round(2))\n",
    "print(\"coefficient:\", coefficient.round(2)[:5])"
   ]
  },
  {
   "cell_type": "code",
   "execution_count": 107,
   "id": "a78c322c",
   "metadata": {},
   "outputs": [
    {
     "data": {
      "text/plain": [
       "array(['lat', 'lon', 'surface_covered_in_m2', 'neighborhood_Villa Crespo',\n",
       "       'neighborhood_Villa Devoto', 'neighborhood_Chacarita',\n",
       "       'neighborhood_Palermo', 'neighborhood_Barracas',\n",
       "       'neighborhood_Congreso', 'neighborhood_Nuñez',\n",
       "       'neighborhood_Villa Urquiza', 'neighborhood_Almagro',\n",
       "       'neighborhood_Villa Ortuzar', 'neighborhood_Balvanera',\n",
       "       'neighborhood_Retiro', 'neighborhood_San Cristobal',\n",
       "       'neighborhood_Liniers', 'neighborhood_Floresta',\n",
       "       'neighborhood_Parque Centenario', 'neighborhood_',\n",
       "       'neighborhood_Coghlan', 'neighborhood_Puerto Madero',\n",
       "       'neighborhood_San Telmo', 'neighborhood_Parque Chacabuco',\n",
       "       'neighborhood_Belgrano', 'neighborhood_Saavedra',\n",
       "       'neighborhood_Barrio Norte', 'neighborhood_Recoleta',\n",
       "       'neighborhood_Villa Luro', 'neighborhood_Monserrat',\n",
       "       'neighborhood_Once', 'neighborhood_Parque Patricios',\n",
       "       'neighborhood_Caballito', 'neighborhood_Tribunales',\n",
       "       'neighborhood_Constitución', 'neighborhood_Pompeya',\n",
       "       'neighborhood_Villa Pueyrredón', 'neighborhood_Las Cañitas',\n",
       "       'neighborhood_Flores', 'neighborhood_San Nicolás',\n",
       "       'neighborhood_Mataderos', 'neighborhood_Boedo',\n",
       "       'neighborhood_Colegiales', 'neighborhood_Boca',\n",
       "       'neighborhood_Paternal', 'neighborhood_Villa del Parque',\n",
       "       'neighborhood_Villa General Mitre', 'neighborhood_Villa Lugano',\n",
       "       'neighborhood_Monte Castro', 'neighborhood_Villa Real',\n",
       "       'neighborhood_Abasto', 'neighborhood_Centro / Microcentro',\n",
       "       'neighborhood_Parque Chas', 'neighborhood_Villa Santa Rita',\n",
       "       'neighborhood_Parque Avellaneda', 'neighborhood_Velez Sarsfield',\n",
       "       'neighborhood_Versalles', 'neighborhood_Agronomía',\n",
       "       'neighborhood_Villa Soldati', 'neighborhood_Catalinas',\n",
       "       'neighborhood_Villa Riachuelo'], dtype=object)"
      ]
     },
     "execution_count": 107,
     "metadata": {},
     "output_type": "execute_result"
    }
   ],
   "source": [
    "feature_names = model.named_steps[\"onehotencoder\"].get_feature_names()\n",
    "feature_names"
   ]
  },
  {
   "cell_type": "code",
   "execution_count": 111,
   "id": "b615ddd1",
   "metadata": {},
   "outputs": [
    {
     "data": {
      "text/plain": [
       "neighborhood_Parque Patricios         135.476022\n",
       "neighborhood_Villa General Mitre      511.740149\n",
       "neighborhood_Paternal                -921.587821\n",
       "surface_covered_in_m2                 956.510412\n",
       "neighborhood_Villa del Parque        1065.621577\n",
       "                                        ...     \n",
       "neighborhood_Las Cañitas            45071.632178\n",
       "neighborhood_Pompeya               -45480.640167\n",
       "neighborhood_Villa Soldati         -47245.363886\n",
       "neighborhood_Villa Riachuelo       -51615.010438\n",
       "neighborhood_Puerto Madero         -65678.300132\n",
       "Length: 61, dtype: float64"
      ]
     },
     "execution_count": 111,
     "metadata": {},
     "output_type": "execute_result"
    }
   ],
   "source": [
    "feat_imp = pd.Series(coefficient, feature_names)"
   ]
  },
  {
   "cell_type": "code",
   "execution_count": 115,
   "id": "c2fe8e20",
   "metadata": {},
   "outputs": [
    {
     "data": {
      "image/png": "[encoded data removed]",
      "text/plain": [
       "<Figure size 640x480 with 1 Axes>"
      ]
     },
     "metadata": {},
     "output_type": "display_data"
    }
   ],
   "source": [
    "feat_imp.sort_values(key=abs).tail(20).plot(kind=\"barh\");"
   ]
  },
  {
   "cell_type": "code",
   "execution_count": null,
   "id": "6642bc83",
   "metadata": {},
   "outputs": [],
   "source": [
    "import spacy\n",
    "\n"
   ]
  }
 ],
 "metadata": {
  "kernelspec": {
   "display_name": "Python 3 (ipykernel)",
   "language": "python",
   "name": "python3"
  },
  "language_info": {
   "codemirror_mode": {
    "name": "ipython",
    "version": 3
   },
   "file_extension": ".py",
   "mimetype": "text/x-python",
   "name": "python",
   "nbconvert_exporter": "python",
   "pygments_lexer": "ipython3",
   "version": "3.9.13"
  }
 },
 "nbformat": 4,
 "nbformat_minor": 5
}
