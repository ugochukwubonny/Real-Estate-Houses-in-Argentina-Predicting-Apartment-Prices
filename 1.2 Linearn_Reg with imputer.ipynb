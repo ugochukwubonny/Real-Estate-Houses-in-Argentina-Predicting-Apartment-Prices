{
 "cells": [
  {
   "cell_type": "markdown",
   "id": "c29d570e",
   "metadata": {},
   "source": [
    "I am going to build on the work i did in the previous project. i am going to create a more complex wrangle function, use it to clean more data, and build a model that considers more features when predicting apartment price."
   ]
  },
  {
   "cell_type": "code",
   "execution_count": 2,
   "id": "9ccf35d1",
   "metadata": {},
   "outputs": [],
   "source": [
    "import warnings\n",
    "import pandas as pd\n",
    "import numpy  as np\n",
    "import plotly.express as px\n",
    "import plotly.graph_objects as go\n",
    "\n",
    "from sklearn.linear_model import LinearRegression\n",
    "from sklearn.metrics import mean_absolute_error\n",
    "from sklearn.pipeline import Pipeline, make_pipeline\n",
    "from sklearn.impute import SimpleImputer\n",
    "warnings.filterwarnings(\"ignore\")"
   ]
  },
  {
   "cell_type": "code",
   "execution_count": 3,
   "id": "cbb95376",
   "metadata": {},
   "outputs": [],
   "source": [
    "def wrangle(filepath):\n",
    "    df = pd.read_csv(filepath)\n",
    "    \n",
    "    mask_place = df[\"place_with_parent_names\"].str.contains(\"Capital Federal\")\n",
    "    \n",
    "    mask_apt = df[\"property_type\"] == \"apartment\"\n",
    "    \n",
    "    mask_price = df[\"price_aprox_usd\"] < 400_000\n",
    "    \n",
    "    low, high = df[\"surface_covered_in_m2\"].quantile([0.1, 0.9])\n",
    "    mask_area = df[\"surface_covered_in_m2\"].between(low, high)\n",
    "    \n",
    "    df = df[mask_place & mask_apt & mask_price & mask_area]\n",
    "    \n",
    "    df.drop(columns=[\"lat-lon\"], inplace=True)\n",
    "    \n",
    "    return df"
   ]
  },
  {
   "cell_type": "code",
   "execution_count": 4,
   "id": "15caa456",
   "metadata": {
    "scrolled": true
   },
   "outputs": [
    {
     "name": "stdout",
     "output_type": "stream",
     "text": [
      "<class 'pandas.core.frame.DataFrame'>\n",
      "Int64Index: 14114 entries, 1 to 145742\n",
      "Data columns (total 23 columns):\n",
      " #   Column                      Non-Null Count  Dtype  \n",
      "---  ------                      --------------  -----  \n",
      " 0   created_on                  14114 non-null  object \n",
      " 1   operation                   14114 non-null  object \n",
      " 2   property_type               14114 non-null  object \n",
      " 3   place_name                  14114 non-null  object \n",
      " 4   place_with_parent_names     14114 non-null  object \n",
      " 5   geonames_id                 13633 non-null  float64\n",
      " 6   lat                         13562 non-null  float64\n",
      " 7   lon                         13562 non-null  float64\n",
      " 8   price                       14114 non-null  float64\n",
      " 9   currency                    14114 non-null  object \n",
      " 10  price_aprox_local_currency  14114 non-null  float64\n",
      " 11  price_aprox_usd             14114 non-null  float64\n",
      " 12  surface_total_in_m2         10015 non-null  float64\n",
      " 13  surface_covered_in_m2       14114 non-null  float64\n",
      " 14  price_usd_per_m2            9582 non-null   float64\n",
      " 15  price_per_m2                14114 non-null  float64\n",
      " 16  floor                       4213 non-null   float64\n",
      " 17  rooms                       11389 non-null  float64\n",
      " 18  expenses                    3834 non-null   object \n",
      " 19  properati_url               14114 non-null  object \n",
      " 20  description                 14114 non-null  object \n",
      " 21  title                       14114 non-null  object \n",
      " 22  image_thumbnail             14079 non-null  object \n",
      "dtypes: float64(12), object(11)\n",
      "memory usage: 2.6+ MB\n",
      "None\n"
     ]
    },
    {
     "data": {
      "text/html": [
       "<div>\n",
       "<style scoped>\n",
       "    .dataframe tbody tr th:only-of-type {\n",
       "        vertical-align: middle;\n",
       "    }\n",
       "\n",
       "    .dataframe tbody tr th {\n",
       "        vertical-align: top;\n",
       "    }\n",
       "\n",
       "    .dataframe thead th {\n",
       "        text-align: right;\n",
       "    }\n",
       "</style>\n",
       "<table border=\"1\" class=\"dataframe\">\n",
       "  <thead>\n",
       "    <tr style=\"text-align: right;\">\n",
       "      <th></th>\n",
       "      <th>created_on</th>\n",
       "      <th>operation</th>\n",
       "      <th>property_type</th>\n",
       "      <th>place_name</th>\n",
       "      <th>place_with_parent_names</th>\n",
       "      <th>geonames_id</th>\n",
       "      <th>lat</th>\n",
       "      <th>lon</th>\n",
       "      <th>price</th>\n",
       "      <th>currency</th>\n",
       "      <th>...</th>\n",
       "      <th>surface_covered_in_m2</th>\n",
       "      <th>price_usd_per_m2</th>\n",
       "      <th>price_per_m2</th>\n",
       "      <th>floor</th>\n",
       "      <th>rooms</th>\n",
       "      <th>expenses</th>\n",
       "      <th>properati_url</th>\n",
       "      <th>description</th>\n",
       "      <th>title</th>\n",
       "      <th>image_thumbnail</th>\n",
       "    </tr>\n",
       "  </thead>\n",
       "  <tbody>\n",
       "    <tr>\n",
       "      <th>1</th>\n",
       "      <td>2012-10-10</td>\n",
       "      <td>sell</td>\n",
       "      <td>apartment</td>\n",
       "      <td>Villa Crespo</td>\n",
       "      <td>|Argentina|Capital Federal|Villa Crespo|</td>\n",
       "      <td>3427458.0</td>\n",
       "      <td>-34.603684</td>\n",
       "      <td>-58.381559</td>\n",
       "      <td>83000.0</td>\n",
       "      <td>USD</td>\n",
       "      <td>...</td>\n",
       "      <td>40.0</td>\n",
       "      <td>2075.000000</td>\n",
       "      <td>2075.000000</td>\n",
       "      <td>1.0</td>\n",
       "      <td>2.0</td>\n",
       "      <td>300.0</td>\n",
       "      <td>http://villa-crespo.properati.com.ar/13tz_vent...</td>\n",
       "      <td>2 AMBIENTES, VENTA, VILLA CRESPO1ER PISO POR E...</td>\n",
       "      <td>DEPARTAMENTO EN VENTA</td>\n",
       "      <td>https://thumbs-cf.properati.com/8/ujkSk81S7fhu...</td>\n",
       "    </tr>\n",
       "    <tr>\n",
       "      <th>195</th>\n",
       "      <td>2013-05-20</td>\n",
       "      <td>sell</td>\n",
       "      <td>apartment</td>\n",
       "      <td>Villa Devoto</td>\n",
       "      <td>|Argentina|Capital Federal|Villa Devoto|</td>\n",
       "      <td>3427451.0</td>\n",
       "      <td>-34.598942</td>\n",
       "      <td>-58.500647</td>\n",
       "      <td>324720.0</td>\n",
       "      <td>USD</td>\n",
       "      <td>...</td>\n",
       "      <td>140.0</td>\n",
       "      <td>NaN</td>\n",
       "      <td>2319.428571</td>\n",
       "      <td>8.0</td>\n",
       "      <td>4.0</td>\n",
       "      <td>NaN</td>\n",
       "      <td>http://villa-devoto.properati.com.ar/73iz_vent...</td>\n",
       "      <td>Corredor Responsable: Patricia Maria Sodor - C...</td>\n",
       "      <td>ULTIMA UNIDAD DE 4 AMBIENTES!</td>\n",
       "      <td>https://thumbs-cf.properati.com/0/G63ECCkemzvp...</td>\n",
       "    </tr>\n",
       "    <tr>\n",
       "      <th>197</th>\n",
       "      <td>2013-05-20</td>\n",
       "      <td>sell</td>\n",
       "      <td>apartment</td>\n",
       "      <td>Chacarita</td>\n",
       "      <td>|Argentina|Capital Federal|Chacarita|</td>\n",
       "      <td>3435506.0</td>\n",
       "      <td>-34.585106</td>\n",
       "      <td>-58.462549</td>\n",
       "      <td>80000.0</td>\n",
       "      <td>USD</td>\n",
       "      <td>...</td>\n",
       "      <td>55.0</td>\n",
       "      <td>NaN</td>\n",
       "      <td>1454.545455</td>\n",
       "      <td>9.0</td>\n",
       "      <td>2.0</td>\n",
       "      <td>NaN</td>\n",
       "      <td>http://chacarita.properati.com.ar/79qp_venta_d...</td>\n",
       "      <td>Corredor Responsable: Jorge Salafia - CUCICBA ...</td>\n",
       "      <td>DIVINO MONOAMB EN TRIUNVIRATO PESOSSS!!!! FINA...</td>\n",
       "      <td>https://thumbs-cf.properati.com/3/eRJkRtFUzcGu...</td>\n",
       "    </tr>\n",
       "    <tr>\n",
       "      <th>199</th>\n",
       "      <td>2013-05-20</td>\n",
       "      <td>sell</td>\n",
       "      <td>apartment</td>\n",
       "      <td>Palermo</td>\n",
       "      <td>|Argentina|Capital Federal|Palermo|</td>\n",
       "      <td>3430234.0</td>\n",
       "      <td>-34.600627</td>\n",
       "      <td>-58.392334</td>\n",
       "      <td>150000.0</td>\n",
       "      <td>USD</td>\n",
       "      <td>...</td>\n",
       "      <td>36.0</td>\n",
       "      <td>NaN</td>\n",
       "      <td>4166.666667</td>\n",
       "      <td>NaN</td>\n",
       "      <td>2.0</td>\n",
       "      <td>NaN</td>\n",
       "      <td>http://palermo.properati.com.ar/79ty_venta_dep...</td>\n",
       "      <td>Corredor Responsable: Jorge Salafia - CUCICBA ...</td>\n",
       "      <td>Dos ambientes y cochera - CON RENTA</td>\n",
       "      <td>https://thumbs-cf.properati.com/6/usFZh3CUU5RA...</td>\n",
       "    </tr>\n",
       "    <tr>\n",
       "      <th>306</th>\n",
       "      <td>2013-05-24</td>\n",
       "      <td>sell</td>\n",
       "      <td>apartment</td>\n",
       "      <td>Barracas</td>\n",
       "      <td>|Argentina|Capital Federal|Barracas|</td>\n",
       "      <td>3436134.0</td>\n",
       "      <td>-34.634679</td>\n",
       "      <td>-58.371091</td>\n",
       "      <td>80000.0</td>\n",
       "      <td>USD</td>\n",
       "      <td>...</td>\n",
       "      <td>60.0</td>\n",
       "      <td>1333.333333</td>\n",
       "      <td>1333.333333</td>\n",
       "      <td>NaN</td>\n",
       "      <td>2.0</td>\n",
       "      <td>NaN</td>\n",
       "      <td>http://barracas.properati.com.ar/7fmr_venta_de...</td>\n",
       "      <td>Departamento en torre con living comedor,cocin...</td>\n",
       "      <td>Departamento</td>\n",
       "      <td>https://thumbs-cf.properati.com/7/rVJm13qMQ0eV...</td>\n",
       "    </tr>\n",
       "  </tbody>\n",
       "</table>\n",
       "<p>5 rows × 23 columns</p>\n",
       "</div>"
      ],
      "text/plain": [
       "     created_on operation property_type    place_name  \\\n",
       "1    2012-10-10      sell     apartment  Villa Crespo   \n",
       "195  2013-05-20      sell     apartment  Villa Devoto   \n",
       "197  2013-05-20      sell     apartment     Chacarita   \n",
       "199  2013-05-20      sell     apartment       Palermo   \n",
       "306  2013-05-24      sell     apartment      Barracas   \n",
       "\n",
       "                      place_with_parent_names  geonames_id        lat  \\\n",
       "1    |Argentina|Capital Federal|Villa Crespo|    3427458.0 -34.603684   \n",
       "195  |Argentina|Capital Federal|Villa Devoto|    3427451.0 -34.598942   \n",
       "197     |Argentina|Capital Federal|Chacarita|    3435506.0 -34.585106   \n",
       "199       |Argentina|Capital Federal|Palermo|    3430234.0 -34.600627   \n",
       "306      |Argentina|Capital Federal|Barracas|    3436134.0 -34.634679   \n",
       "\n",
       "           lon     price currency  ...  surface_covered_in_m2  \\\n",
       "1   -58.381559   83000.0      USD  ...                   40.0   \n",
       "195 -58.500647  324720.0      USD  ...                  140.0   \n",
       "197 -58.462549   80000.0      USD  ...                   55.0   \n",
       "199 -58.392334  150000.0      USD  ...                   36.0   \n",
       "306 -58.371091   80000.0      USD  ...                   60.0   \n",
       "\n",
       "     price_usd_per_m2  price_per_m2  floor  rooms  expenses  \\\n",
       "1         2075.000000   2075.000000    1.0    2.0     300.0   \n",
       "195               NaN   2319.428571    8.0    4.0       NaN   \n",
       "197               NaN   1454.545455    9.0    2.0       NaN   \n",
       "199               NaN   4166.666667    NaN    2.0       NaN   \n",
       "306       1333.333333   1333.333333    NaN    2.0       NaN   \n",
       "\n",
       "                                         properati_url  \\\n",
       "1    http://villa-crespo.properati.com.ar/13tz_vent...   \n",
       "195  http://villa-devoto.properati.com.ar/73iz_vent...   \n",
       "197  http://chacarita.properati.com.ar/79qp_venta_d...   \n",
       "199  http://palermo.properati.com.ar/79ty_venta_dep...   \n",
       "306  http://barracas.properati.com.ar/7fmr_venta_de...   \n",
       "\n",
       "                                           description  \\\n",
       "1    2 AMBIENTES, VENTA, VILLA CRESPO1ER PISO POR E...   \n",
       "195  Corredor Responsable: Patricia Maria Sodor - C...   \n",
       "197  Corredor Responsable: Jorge Salafia - CUCICBA ...   \n",
       "199  Corredor Responsable: Jorge Salafia - CUCICBA ...   \n",
       "306  Departamento en torre con living comedor,cocin...   \n",
       "\n",
       "                                                 title  \\\n",
       "1                                DEPARTAMENTO EN VENTA   \n",
       "195                      ULTIMA UNIDAD DE 4 AMBIENTES!   \n",
       "197  DIVINO MONOAMB EN TRIUNVIRATO PESOSSS!!!! FINA...   \n",
       "199                Dos ambientes y cochera - CON RENTA   \n",
       "306                                       Departamento   \n",
       "\n",
       "                                       image_thumbnail  \n",
       "1    https://thumbs-cf.properati.com/8/ujkSk81S7fhu...  \n",
       "195  https://thumbs-cf.properati.com/0/G63ECCkemzvp...  \n",
       "197  https://thumbs-cf.properati.com/3/eRJkRtFUzcGu...  \n",
       "199  https://thumbs-cf.properati.com/6/usFZh3CUU5RA...  \n",
       "306  https://thumbs-cf.properati.com/7/rVJm13qMQ0eV...  \n",
       "\n",
       "[5 rows x 23 columns]"
      ]
     },
     "execution_count": 4,
     "metadata": {},
     "output_type": "execute_result"
    }
   ],
   "source": [
    "df = wrangle(\"properati-AR-2016-11-01-properties-2.csv\")\n",
    "print(df.info())\n",
    "df.head()"
   ]
  },
  {
   "cell_type": "markdown",
   "id": "0c8b6523",
   "metadata": {},
   "source": [
    "For the model, i am going to consider apartment location, specifically, latitude and longitude. Looking at the output from df.info(), we can see that the location information is in a single column where the data type is object (pandas term for str in this case). In order to build our model, i need latitude and longitude to each be in their own column where the data type is float."
   ]
  },
  {
   "cell_type": "markdown",
   "id": "b6067b74",
   "metadata": {},
   "source": [
    "### Split\n",
    "\n",
    "Even though i am building a different model, the steps we follow will be the same. Let's separate our features (latitude and longitude) from our target (price)."
   ]
  },
  {
   "cell_type": "code",
   "execution_count": 6,
   "id": "cb52b519",
   "metadata": {},
   "outputs": [
    {
     "name": "stdout",
     "output_type": "stream",
     "text": [
      "X_train:            lat        lon\n",
      "1   -34.603684 -58.381559\n",
      "195 -34.598942 -58.500647\n",
      "197 -34.585106 -58.462549\n",
      "199 -34.600627 -58.392334\n",
      "306 -34.634679 -58.371091\n",
      "y_train: 1       83000.0\n",
      "195    324720.0\n",
      "197     80000.0\n",
      "199    150000.0\n",
      "306     80000.0\n",
      "Name: price_aprox_usd, dtype: float64\n"
     ]
    }
   ],
   "source": [
    "feature = [\"lat\", \"lon\"]\n",
    "target = \"price_aprox_usd\"\n",
    "X = df[feature]\n",
    "y = df[target]\n",
    "print(\"X_train:\", X.head())\n",
    "print(\"y_train:\", y.head())"
   ]
  },
  {
   "cell_type": "code",
   "execution_count": 14,
   "id": "e2e46945",
   "metadata": {},
   "outputs": [
    {
     "name": "stdout",
     "output_type": "stream",
     "text": [
      "<class 'pandas.core.frame.DataFrame'>\n",
      "Int64Index: 14114 entries, 1 to 145742\n",
      "Data columns (total 2 columns):\n",
      " #   Column  Non-Null Count  Dtype  \n",
      "---  ------  --------------  -----  \n",
      " 0   lat     13562 non-null  float64\n",
      " 1   lon     13562 non-null  float64\n",
      "dtypes: float64(2)\n",
      "memory usage: 330.8 KB\n"
     ]
    }
   ],
   "source": [
    "X.info()"
   ]
  },
  {
   "cell_type": "code",
   "execution_count": 8,
   "id": "e64b8047",
   "metadata": {},
   "outputs": [
    {
     "data": {
      "text/plain": [
       "(14114,)"
      ]
     },
     "execution_count": 8,
     "metadata": {},
     "output_type": "execute_result"
    }
   ],
   "source": [
    "y.shape"
   ]
  },
  {
   "cell_type": "markdown",
   "id": "45eedb7a",
   "metadata": {},
   "source": [
    "## Build Model\n",
    "### Baseline\n",
    "\n",
    "Again, i need to set a baseline so i can evaluate the model's performance. You'll notice that the value of y_mean is not exactly the same as it was in the previous lesson. That's because we've added more observations to our training data."
   ]
  },
  {
   "cell_type": "code",
   "execution_count": 9,
   "id": "5a330104",
   "metadata": {},
   "outputs": [
    {
     "name": "stdout",
     "output_type": "stream",
     "text": [
      "mean apt price: 154234.66\n",
      "baseline mae: 59231.71\n"
     ]
    }
   ],
   "source": [
    "y_mean = y.mean()\n",
    "y_pred_baseline = [y_mean] * len(y)\n",
    "mae_baseline = mean_absolute_error(y, y_pred_baseline)\n",
    "print(\"mean apt price:\", y_mean.round(2))\n",
    "print(\"baseline mae:\", mae_baseline.round(2))"
   ]
  },
  {
   "cell_type": "markdown",
   "id": "b00b26bf",
   "metadata": {},
   "source": [
    "### Iterate\n",
    "\n",
    "In the last project, i simply dropped rows that contained NaN values, but this isn't ideal. Models generally perform better when they have more data to train with, so every row is precious. Instead, w can fill in these missing values using information we get from the whole column — a process called imputation. There are many different strategies for imputing missing values, and one of the most common is filling in the missing values with the mean of the column.\n",
    "\n",
    "In addition to predictors like LinearRegression, scikit-learn also has transformers that help us deal with issues like missing values. Let's see how one works, and then we'll add it to our model"
   ]
  },
  {
   "cell_type": "code",
   "execution_count": 19,
   "id": "a8e8a7e1",
   "metadata": {},
   "outputs": [
    {
     "data": {
      "text/plain": [
       "array([[-34.6036844 , -58.3815591 ],\n",
       "       [-34.598942  , -58.500647  ],\n",
       "       [-34.585106  , -58.462549  ],\n",
       "       ...,\n",
       "       [-34.6224065 , -58.477773  ],\n",
       "       [-34.60064886, -58.37024074],\n",
       "       [-34.58544047, -58.41141038]])"
      ]
     },
     "execution_count": 19,
     "metadata": {},
     "output_type": "execute_result"
    }
   ],
   "source": [
    "imputer = SimpleImputer().fit(X)\n",
    "xt = imputer.transform(X)\n",
    "\n",
    "xt"
   ]
  },
  {
   "cell_type": "markdown",
   "id": "17427071",
   "metadata": {},
   "source": [
    "Create a pipeline named model that contains a SimpleImputer transformer followed by a LinearRegression predictor."
   ]
  },
  {
   "cell_type": "code",
   "execution_count": 17,
   "id": "2be2e5ce",
   "metadata": {},
   "outputs": [],
   "source": [
    "model = make_pipeline(\n",
    "    SimpleImputer(),\n",
    "    LinearRegression()\n",
    ").fit(X, y)"
   ]
  },
  {
   "cell_type": "code",
   "execution_count": 18,
   "id": "2c550702",
   "metadata": {},
   "outputs": [
    {
     "data": {
      "text/html": [
       "<style>#sk-container-id-1 {color: black;background-color: white;}#sk-container-id-1 pre{padding: 0;}#sk-container-id-1 div.sk-toggleable {background-color: white;}#sk-container-id-1 label.sk-toggleable__label {cursor: pointer;display: block;width: 100%;margin-bottom: 0;padding: 0.3em;box-sizing: border-box;text-align: center;}#sk-container-id-1 label.sk-toggleable__label-arrow:before {content: \"▸\";float: left;margin-right: 0.25em;color: #696969;}#sk-container-id-1 label.sk-toggleable__label-arrow:hover:before {color: black;}#sk-container-id-1 div.sk-estimator:hover label.sk-toggleable__label-arrow:before {color: black;}#sk-container-id-1 div.sk-toggleable__content {max-height: 0;max-width: 0;overflow: hidden;text-align: left;background-color: #f0f8ff;}#sk-container-id-1 div.sk-toggleable__content pre {margin: 0.2em;color: black;border-radius: 0.25em;background-color: #f0f8ff;}#sk-container-id-1 input.sk-toggleable__control:checked~div.sk-toggleable__content {max-height: 200px;max-width: 100%;overflow: auto;}#sk-container-id-1 input.sk-toggleable__control:checked~label.sk-toggleable__label-arrow:before {content: \"▾\";}#sk-container-id-1 div.sk-estimator input.sk-toggleable__control:checked~label.sk-toggleable__label {background-color: #d4ebff;}#sk-container-id-1 div.sk-label input.sk-toggleable__control:checked~label.sk-toggleable__label {background-color: #d4ebff;}#sk-container-id-1 input.sk-hidden--visually {border: 0;clip: rect(1px 1px 1px 1px);clip: rect(1px, 1px, 1px, 1px);height: 1px;margin: -1px;overflow: hidden;padding: 0;position: absolute;width: 1px;}#sk-container-id-1 div.sk-estimator {font-family: monospace;background-color: #f0f8ff;border: 1px dotted black;border-radius: 0.25em;box-sizing: border-box;margin-bottom: 0.5em;}#sk-container-id-1 div.sk-estimator:hover {background-color: #d4ebff;}#sk-container-id-1 div.sk-parallel-item::after {content: \"\";width: 100%;border-bottom: 1px solid gray;flex-grow: 1;}#sk-container-id-1 div.sk-label:hover label.sk-toggleable__label {background-color: #d4ebff;}#sk-container-id-1 div.sk-serial::before {content: \"\";position: absolute;border-left: 1px solid gray;box-sizing: border-box;top: 0;bottom: 0;left: 50%;z-index: 0;}#sk-container-id-1 div.sk-serial {display: flex;flex-direction: column;align-items: center;background-color: white;padding-right: 0.2em;padding-left: 0.2em;position: relative;}#sk-container-id-1 div.sk-item {position: relative;z-index: 1;}#sk-container-id-1 div.sk-parallel {display: flex;align-items: stretch;justify-content: center;background-color: white;position: relative;}#sk-container-id-1 div.sk-item::before, #sk-container-id-1 div.sk-parallel-item::before {content: \"\";position: absolute;border-left: 1px solid gray;box-sizing: border-box;top: 0;bottom: 0;left: 50%;z-index: -1;}#sk-container-id-1 div.sk-parallel-item {display: flex;flex-direction: column;z-index: 1;position: relative;background-color: white;}#sk-container-id-1 div.sk-parallel-item:first-child::after {align-self: flex-end;width: 50%;}#sk-container-id-1 div.sk-parallel-item:last-child::after {align-self: flex-start;width: 50%;}#sk-container-id-1 div.sk-parallel-item:only-child::after {width: 0;}#sk-container-id-1 div.sk-dashed-wrapped {border: 1px dashed gray;margin: 0 0.4em 0.5em 0.4em;box-sizing: border-box;padding-bottom: 0.4em;background-color: white;}#sk-container-id-1 div.sk-label label {font-family: monospace;font-weight: bold;display: inline-block;line-height: 1.2em;}#sk-container-id-1 div.sk-label-container {text-align: center;}#sk-container-id-1 div.sk-container {/* jupyter's `normalize.less` sets `[hidden] { display: none; }` but bootstrap.min.css set `[hidden] { display: none !important; }` so we also need the `!important` here to be able to override the default hidden behavior on the sphinx rendered scikit-learn.org. See: https://github.com/scikit-learn/scikit-learn/issues/21755 */display: inline-block !important;position: relative;}#sk-container-id-1 div.sk-text-repr-fallback {display: none;}</style><div id=\"sk-container-id-1\" class=\"sk-top-container\"><div class=\"sk-text-repr-fallback\"><pre>Pipeline(steps=[(&#x27;simpleimputer&#x27;, SimpleImputer()),\n",
       "                (&#x27;linearregression&#x27;, LinearRegression())])</pre><b>In a Jupyter environment, please rerun this cell to show the HTML representation or trust the notebook. <br />On GitHub, the HTML representation is unable to render, please try loading this page with nbviewer.org.</b></div><div class=\"sk-container\" hidden><div class=\"sk-item sk-dashed-wrapped\"><div class=\"sk-label-container\"><div class=\"sk-label sk-toggleable\"><input class=\"sk-toggleable__control sk-hidden--visually\" id=\"sk-estimator-id-1\" type=\"checkbox\" ><label for=\"sk-estimator-id-1\" class=\"sk-toggleable__label sk-toggleable__label-arrow\">Pipeline</label><div class=\"sk-toggleable__content\"><pre>Pipeline(steps=[(&#x27;simpleimputer&#x27;, SimpleImputer()),\n",
       "                (&#x27;linearregression&#x27;, LinearRegression())])</pre></div></div></div><div class=\"sk-serial\"><div class=\"sk-item\"><div class=\"sk-estimator sk-toggleable\"><input class=\"sk-toggleable__control sk-hidden--visually\" id=\"sk-estimator-id-2\" type=\"checkbox\" ><label for=\"sk-estimator-id-2\" class=\"sk-toggleable__label sk-toggleable__label-arrow\">SimpleImputer</label><div class=\"sk-toggleable__content\"><pre>SimpleImputer()</pre></div></div></div><div class=\"sk-item\"><div class=\"sk-estimator sk-toggleable\"><input class=\"sk-toggleable__control sk-hidden--visually\" id=\"sk-estimator-id-3\" type=\"checkbox\" ><label for=\"sk-estimator-id-3\" class=\"sk-toggleable__label sk-toggleable__label-arrow\">LinearRegression</label><div class=\"sk-toggleable__content\"><pre>LinearRegression()</pre></div></div></div></div></div></div></div>"
      ],
      "text/plain": [
       "Pipeline(steps=[('simpleimputer', SimpleImputer()),\n",
       "                ('linearregression', LinearRegression())])"
      ]
     },
     "execution_count": 18,
     "metadata": {},
     "output_type": "execute_result"
    }
   ],
   "source": [
    "model"
   ]
  },
  {
   "cell_type": "markdown",
   "id": "d7121579",
   "metadata": {},
   "source": [
    "### Evaluate\n",
    "\n",
    "As always, we'll start by evaluating our model's performance on the training data."
   ]
  },
  {
   "cell_type": "code",
   "execution_count": 20,
   "id": "57bc145b",
   "metadata": {},
   "outputs": [
    {
     "name": "stdout",
     "output_type": "stream",
     "text": [
      "y train: [153812.56 154617.47 154469.84 ... 154301.46 153761.01 154136.38]\n",
      "training mae: 59216.41\n"
     ]
    }
   ],
   "source": [
    "y_pred_train = model.predict(X)\n",
    "mae_train = mean_absolute_error(y, y_pred_train)\n",
    "print(\"y train:\", y_pred_train.round(2))\n",
    "print(\"training mae:\", mae_train.round((2)))"
   ]
  },
  {
   "cell_type": "markdown",
   "id": "9c882d5b",
   "metadata": {},
   "source": [
    "### Communicate Results\n",
    "\n",
    "Extract the intercept and coefficients for your model."
   ]
  },
  {
   "cell_type": "code",
   "execution_count": 22,
   "id": "37b54c54",
   "metadata": {},
   "outputs": [
    {
     "name": "stdout",
     "output_type": "stream",
     "text": [
      "intercept: 23488.49\n",
      "coefficient: 7156.35\n"
     ]
    }
   ],
   "source": [
    "intercept = model.named_steps[\"linearregression\"].intercept_\n",
    "coefficient =  model.named_steps[\"linearregression\"].coef_[0]\n",
    "print(\"intercept:\", intercept.round(2))\n",
    "print(\"coefficient:\", coefficient.round(2))"
   ]
  },
  {
   "cell_type": "code",
   "execution_count": null,
   "id": "597b15fd",
   "metadata": {},
   "outputs": [],
   "source": []
  }
 ],
 "metadata": {
  "kernelspec": {
   "display_name": "Python 3 (ipykernel)",
   "language": "python",
   "name": "python3"
  },
  "language_info": {
   "codemirror_mode": {
    "name": "ipython",
    "version": 3
   },
   "file_extension": ".py",
   "mimetype": "text/x-python",
   "name": "python",
   "nbconvert_exporter": "python",
   "pygments_lexer": "ipython3",
   "version": "3.9.13"
  }
 },
 "nbformat": 4,
 "nbformat_minor": 5
}
